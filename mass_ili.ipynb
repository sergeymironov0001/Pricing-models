{
 "cells": [
  {
   "cell_type": "markdown",
   "metadata": {},
   "source": [
    "### Национальные чемпионы"
   ]
  },
  {
   "cell_type": "code",
   "execution_count": 47,
   "metadata": {
    "collapsed": false,
    "scrolled": false
   },
   "outputs": [],
   "source": [
    "from pfp_products import *\n",
    "from pfp_optimization import *\n",
    "from pfp_stat import *\n",
    "import matplotlib.pyplot as plt\n",
    "\n",
    "# set constants & assumbtions\n",
    "n_scenarios = 10000\n",
    "simulation_years = 10         #years\n",
    "\n",
    "points_in_year = 12\n",
    "assumptions = pd.DataFrame(index = {'SPX Index', 'NKY Index'}, data = {'return': [0.2, 0.1]} )\n",
    "\n",
    "dates = np.arange(points_in_year - 1, points_in_year*5 +1, points_in_year)\n",
    "\n",
    "#5 лет, барьер 50%, купон 8.4%, без памяти\n",
    "\n",
    "mass_names = ['SBER RX EQUITY',\n",
    "        'GAZP RX EQUITY',\n",
    "        'GMKN RX EQUITY',\n",
    "        'LKOH RX EQUITY',\n",
    "        'MGNT RX EQUITY',\n",
    "        'ROSN RX EQUITY',\n",
    "        'ALRS RX EQUITY',\n",
    "        'AFLT RX EQUITY',\n",
    "        'MOEX RX EQUITY',\n",
    "        'VTBR RX EQUITY']\n",
    "\n",
    "mass_prices = ba_scenarios(mass_names, simulation_years, points_in_year, n_scenarios, assumptions, 0)\n",
    "\n",
    "coupon_trigger = (mass_prices[dates,:,:] > 0.5).sum(axis = 2) == len(mass_names)\n",
    "coupon = np.ones(coupon_trigger.shape).cumsum(axis = 0) == coupon_trigger.cumsum(axis = 0)\n",
    "coupons = coupon.sum(axis = 0)"
   ]
  },
  {
   "cell_type": "code",
   "execution_count": 50,
   "metadata": {
    "collapsed": false
   },
   "outputs": [
    {
     "data": {
      "image/png": "[encoded data removed]",
      "text/plain": [
       "<matplotlib.figure.Figure at 0x138347f98>"
      ]
     },
     "metadata": {},
     "output_type": "display_data"
    }
   ],
   "source": [
    "plt.hist(coupons, normed=False, bins=10)\n",
    "plt.ylabel('Probability');\n",
    "plt.show()"
   ]
  }
 ],
 "metadata": {
  "kernelspec": {
   "display_name": "Python 3",
   "language": "python",
   "name": "python3"
  },
  "language_info": {
   "codemirror_mode": {
    "name": "ipython",
    "version": 3
   },
   "file_extension": ".py",
   "mimetype": "text/x-python",
   "name": "python",
   "nbconvert_exporter": "python",
   "pygments_lexer": "ipython3",
   "version": "3.6.0"
  }
 },
 "nbformat": 4,
 "nbformat_minor": 2
}
