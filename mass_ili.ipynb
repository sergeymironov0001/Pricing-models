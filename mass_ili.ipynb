{
 "cells": [
  {
   "cell_type": "markdown",
   "metadata": {},
   "source": [
    "### Национальные чемпионы"
   ]
  },
  {
   "cell_type": "code",
   "execution_count": 1,
   "metadata": {
    "collapsed": false,
    "scrolled": false
   },
   "outputs": [
    {
     "name": "stdout",
     "output_type": "stream",
     "text": [
      "INDEXCF Index     0.082040\n",
      "NKY Index         0.114892\n",
      "SX5E Index        0.051918\n",
      "CCMP Index        0.159190\n",
      "SPX Index         0.107930\n",
      "LEGATRUU Index    0.010780\n",
      "US0012M Index     0.257230\n",
      "usdeur curncy     0.017556\n",
      "usdrub curncy     0.136070\n",
      "usdaud curncy     0.062310\n",
      "usdjpy curncy     0.026696\n",
      "usdgbp curncy     0.021201\n",
      "ERIXITEU Index    0.017626\n",
      "ITRXAAE Index    -0.088228\n",
      "ITRXAJE index    -0.135297\n",
      "ITRXTE5I Index    0.015568\n",
      "dtype: float64\n",
      "[  1.28438468e+00   9.72299427e-02  -2.29840485e-01   1.07898378e-01\n",
      "  -1.58364878e-01   4.17514249e-01   2.10213071e-02   4.10495046e-01\n",
      "  -4.70248240e-01   2.04678461e-01  -4.44208052e-02   8.09476709e-02\n",
      "   3.41083253e+01   1.29445694e-02   2.30472019e-02  -3.24185161e+01]\n",
      "[  1.12946654e+00  -8.93216890e-02   2.07051052e-02  -4.16103095e-01\n",
      "   3.97286086e-01  -4.53282009e-01   4.03349254e-02   1.88171266e-02\n",
      "  -7.34291420e-02  -1.40128292e-01  -1.07413227e-01  -5.47781794e-02\n",
      "  -1.44416029e+01   2.67208881e-03  -3.32834846e-02   1.43704905e+01]\n",
      "[ 0.78995545  0.00628104  0.25983695  0.48595225 -0.74898812 -0.16415661\n",
      " -0.13498729 -0.20854194  0.50308368 -0.40924226  0.0942635  -0.03692622\n",
      " -4.01839642 -0.0394439  -0.07199953  2.49459132]\n",
      "[  1.02010244e+00   4.89095950e-02   2.94308842e-02  -3.60107222e-01\n",
      "   5.45123531e-01   1.71477313e-01   4.79269298e-03   7.05331587e-02\n",
      "   1.04415460e-01   3.83348521e-02  -9.59463742e-02   5.35530027e-02\n",
      "  -1.48749542e+01  -4.09258609e-02   2.33552543e-02   1.44580806e+01]\n",
      "[  8.22327974e-01  -1.09366727e-02   1.82715104e-01   4.67784023e-01\n",
      "  -6.97709839e-01   5.84982461e-01  -1.15067271e-01   4.45743092e-02\n",
      "  -1.80991540e-01  -1.15877284e-02   6.03662625e-01   3.40493684e-01\n",
      "  -1.60608752e+01  -3.09229710e-02   8.27735925e-02   1.80022604e+01]\n",
      "[  1.14017999e+00  -3.03189781e-02  -7.52738357e-02  -4.31222245e-01\n",
      "   5.71837196e-01  -5.19193880e-01  -8.37703698e-03   1.78294709e-02\n",
      "  -2.19266136e-01   1.22016537e-01  -3.09096201e-01  -7.11771668e-03\n",
      "  -4.44400147e+01   1.75068570e-02  -1.17756412e-02   4.31547344e+01]\n",
      "[  6.48968516e-01  -3.24985949e-02   3.61500199e-01  -6.89707296e-02\n",
      "  -1.28840043e-01  -5.24371788e-01  -2.19963918e-01  -6.36269368e-02\n",
      "   2.08172830e-01  -2.01125566e-01  -1.46830744e-01  -8.32354674e-02\n",
      "  -1.40764935e+01   1.71548845e-01   1.16179442e-02   1.47460750e+01]\n",
      "[ 0.94261895  0.06278227  0.07407157  0.16186353 -0.76468407  0.0323375\n",
      "  0.05770342 -0.12159421 -0.42120468  0.1815561  -0.12699483  0.18055945\n",
      " -7.88353825 -0.02518787  0.02091035  9.04889362]\n",
      "[  8.81437079e-01  -1.91273673e-01   2.99489187e-01  -1.25669148e-02\n",
      "   3.54968788e-02   3.14222785e-01  -1.91260509e-02   2.69589750e-01\n",
      "  -4.13833881e-02   1.12270807e-01   1.62265881e-01   1.21256573e-01\n",
      "   1.97826376e+01  -6.40006479e-03  -6.54188382e-03  -2.06255829e+01]\n",
      "[  6.72114809e-01   6.62674780e-02   1.00528597e-01   1.85555732e-04\n",
      "  -4.09680198e-01  -2.48772073e-01   9.00536524e-02  -2.01506696e-01\n",
      "  -2.15590841e-01  -1.03805206e-02   1.18176048e-01  -4.03460702e-02\n",
      "  -1.95230206e+01  -7.99918542e-02   8.68895111e-02   1.98080481e+01]\n",
      "Means: \n",
      "SBER RX EQUITY    0.157489\n",
      "GAZP RX EQUITY    0.008697\n",
      "GMKN RX EQUITY    0.136585\n",
      "LKOH RX EQUITY    0.152258\n",
      "MGNT RX EQUITY   -0.040968\n",
      "ROSN RX EQUITY    0.097483\n",
      "ALRS RX EQUITY    0.190624\n",
      "AFLT RX EQUITY    0.179603\n",
      "MOEX RX EQUITY    0.155679\n",
      "VTBR RX EQUITY   -0.010557\n",
      "dtype: float64\n",
      "Sigmas: \n",
      "SBER RX EQUITY    0.042798\n",
      "GAZP RX EQUITY    0.034049\n",
      "GMKN RX EQUITY    0.038398\n",
      "LKOH RX EQUITY    0.033761\n",
      "MGNT RX EQUITY    0.043747\n",
      "ROSN RX EQUITY    0.037284\n",
      "ALRS RX EQUITY    0.042259\n",
      "AFLT RX EQUITY    0.051659\n",
      "MOEX RX EQUITY    0.040736\n",
      "VTBR RX EQUITY    0.040441\n",
      "dtype: float64\n",
      "Correlations: \n",
      "                SBER RX EQUITY  GAZP RX EQUITY  GMKN RX EQUITY  \\\n",
      "SBER RX EQUITY        1.000000        0.595170        0.291382   \n",
      "GAZP RX EQUITY        0.595170        1.000000        0.327046   \n",
      "GMKN RX EQUITY        0.291382        0.327046        1.000000   \n",
      "LKOH RX EQUITY        0.469765        0.546234        0.435438   \n",
      "MGNT RX EQUITY        0.383820        0.321759        0.260675   \n",
      "ROSN RX EQUITY        0.479852        0.607443        0.340085   \n",
      "ALRS RX EQUITY        0.193974        0.285268        0.270017   \n",
      "AFLT RX EQUITY        0.468739        0.303342        0.157581   \n",
      "MOEX RX EQUITY        0.449745        0.455733        0.237772   \n",
      "VTBR RX EQUITY        0.355890        0.313016        0.152950   \n",
      "\n",
      "                LKOH RX EQUITY  MGNT RX EQUITY  ROSN RX EQUITY  \\\n",
      "SBER RX EQUITY        0.469765        0.383820        0.479852   \n",
      "GAZP RX EQUITY        0.546234        0.321759        0.607443   \n",
      "GMKN RX EQUITY        0.435438        0.260675        0.340085   \n",
      "LKOH RX EQUITY        1.000000        0.377988        0.616242   \n",
      "MGNT RX EQUITY        0.377988        1.000000        0.291773   \n",
      "ROSN RX EQUITY        0.616242        0.291773        1.000000   \n",
      "ALRS RX EQUITY        0.260538        0.113004        0.205611   \n",
      "AFLT RX EQUITY        0.243261        0.307494        0.259061   \n",
      "MOEX RX EQUITY        0.432043        0.220772        0.412345   \n",
      "VTBR RX EQUITY        0.312413        0.238854        0.254823   \n",
      "\n",
      "                ALRS RX EQUITY  AFLT RX EQUITY  MOEX RX EQUITY  VTBR RX EQUITY  \n",
      "SBER RX EQUITY        0.193974        0.468739        0.449745        0.355890  \n",
      "GAZP RX EQUITY        0.285268        0.303342        0.455733        0.313016  \n",
      "GMKN RX EQUITY        0.270017        0.157581        0.237772        0.152950  \n",
      "LKOH RX EQUITY        0.260538        0.243261        0.432043        0.312413  \n",
      "MGNT RX EQUITY        0.113004        0.307494        0.220772        0.238854  \n",
      "ROSN RX EQUITY        0.205611        0.259061        0.412345        0.254823  \n",
      "ALRS RX EQUITY        1.000000        0.204226        0.219215        0.210077  \n",
      "AFLT RX EQUITY        0.204226        1.000000        0.284300        0.303140  \n",
      "MOEX RX EQUITY        0.219215        0.284300        1.000000        0.331519  \n",
      "VTBR RX EQUITY        0.210077        0.303140        0.331519        1.000000  \n"
     ]
    }
   ],
   "source": [
    "from pfp_products import *\n",
    "from pfp_optimization import *\n",
    "from pfp_stat import *\n",
    "import matplotlib.pyplot as plt\n",
    "\n",
    "# set constants & assumbtions\n",
    "n_scenarios = 10000\n",
    "simulation_years = 10         #years\n",
    "\n",
    "points_in_year = 12\n",
    "assumptions = pd.DataFrame(index = {'SPX Index', 'NKY Index'}, data = {'return': [0.2, 0.1]} )\n",
    "\n",
    "dates = np.arange(points_in_year - 1, points_in_year*5 +1, points_in_year)\n",
    "\n",
    "#5 лет, барьер 50%, купон 8.4%, без памяти\n",
    "\n",
    "mass_names = ['SBER RX EQUITY',\n",
    "        'GAZP RX EQUITY',\n",
    "        'GMKN RX EQUITY',\n",
    "        'LKOH RX EQUITY',\n",
    "        'MGNT RX EQUITY',\n",
    "        'ROSN RX EQUITY',\n",
    "        'ALRS RX EQUITY',\n",
    "        'AFLT RX EQUITY',\n",
    "        'MOEX RX EQUITY',\n",
    "        'VTBR RX EQUITY']\n",
    "\n",
    "mass_prices = ba_scenarios(mass_names, simulation_years, points_in_year, n_scenarios, assumptions, 0)\n",
    "coupon_trigger = (mass_prices[dates,:,:] > 0.5).sum(axis = 2) == len(mass_names)\n",
    "coupon = np.ones(coupon_trigger.shape).cumsum(axis = 0) == coupon_trigger.cumsum(axis = 0)\n",
    "coupons = coupon.sum(axis = 0)"
   ]
  },
  {
   "cell_type": "code",
   "execution_count": 5,
   "metadata": {
    "collapsed": false
   },
   "outputs": [
    {
     "data": {
      "image/png": "[encoded data removed]",
      "text/plain": [
       "<matplotlib.figure.Figure at 0x1294e4400>"
      ]
     },
     "metadata": {},
     "output_type": "display_data"
    }
   ],
   "source": [
    "plt.hist(coupons, normed=False, bins=10)\n",
    "plt.show()"
   ]
  },
  {
   "cell_type": "code",
   "execution_count": 10,
   "metadata": {
    "collapsed": false
   },
   "outputs": [
    {
     "data": {
      "text/plain": [
       "(array([0, 1, 2, 3, 4, 5]), array([ 447, 1489, 1418, 1045,  831, 4770]))"
      ]
     },
     "execution_count": 10,
     "metadata": {},
     "output_type": "execute_result"
    }
   ],
   "source": [
    "np.unique(coupons, return_counts=True)"
   ]
  },
  {
   "cell_type": "code",
   "execution_count": null,
   "metadata": {
    "collapsed": true
   },
   "outputs": [],
   "source": []
  }
 ],
 "metadata": {
  "kernelspec": {
   "display_name": "Python 3",
   "language": "python",
   "name": "python3"
  },
  "language_info": {
   "codemirror_mode": {
    "name": "ipython",
    "version": 3
   },
   "file_extension": ".py",
   "mimetype": "text/x-python",
   "name": "python",
   "nbconvert_exporter": "python",
   "pygments_lexer": "ipython3",
   "version": "3.6.0"
  }
 },
 "nbformat": 4,
 "nbformat_minor": 2
}
