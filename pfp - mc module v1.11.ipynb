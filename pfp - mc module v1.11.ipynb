{
 "cells": [
  {
   "cell_type": "markdown",
   "metadata": {},
   "source": [
    "### оптимизация портфеля"
   ]
  },
  {
   "cell_type": "code",
   "execution_count": null,
   "metadata": {
    "collapsed": true
   },
   "outputs": [],
   "source": [
    "from pfp_products import *\n",
    "from pfp_optimization import *\n",
    "from pfp_stat import *"
   ]
  },
  {
   "cell_type": "code",
   "execution_count": 8,
   "metadata": {
    "collapsed": false
   },
   "outputs": [
    {
     "name": "stdout",
     "output_type": "stream",
     "text": [
      "CPU times: user 652 ms, sys: 154 ms, total: 806 ms\n",
      "Wall time: 783 ms\n"
     ]
    }
   ],
   "source": [
    "%%time\n",
    "# set constants & assumbtions\n",
    "n_scenarios = 1000\n",
    "simulation_years = 10         #years\n",
    "client_term = 10   #years\n",
    "points_in_year = 12\n",
    "assumptions = pd.DataFrame(index = {'SPX Index', 'NKY Index'}, data = {'return': [0.2, 0.1]} )\n",
    "\n",
    "#базовые активы\n",
    "BAs = read_prodcat('prodcat.xlsx')[2]\n",
    "prices = ba_scenarios(BAs, simulation_years, points_in_year, n_scenarios, assumptions, 0)\n",
    "\n",
    "# продукты\n",
    "total, names = calc_products2(prices, simulation_years, points_in_year, client_term)"
   ]
  },
  {
   "cell_type": "code",
   "execution_count": 10,
   "metadata": {
    "collapsed": false
   },
   "outputs": [
    {
     "name": "stdout",
     "output_type": "stream",
     "text": [
      "                               product  weight\n",
      "0                              ИСЖ ГФО    0.00\n",
      "1                 ИСЖ новые технологии    0.07\n",
      "2           ИСЖ потребительские товары    0.00\n",
      "3                      ИСЖ MCD DAL DIS    0.00\n",
      "4                      ИСЖ дойче купон    0.00\n",
      "5                          ИСЖ 4 фармы    0.00\n",
      "6                        ИСЖ 4+1 фармы    0.00\n",
      "7                    Callable note MCD    0.00\n",
      "8                            Депозит 1    0.00\n",
      "9                            Депозит 2    0.00\n",
      "10                  ПИФ \"Илья Муромец\"    0.00\n",
      "11  ПИФ \"Компании малой капитализации\"    0.00\n",
      "12              ПИФ \"Сбалансированный\"    0.00\n",
      "13                   БСО АДР Сбербанка    0.93\n",
      "CPU times: user 1min 37s, sys: 2.24 s, total: 1min 39s\n",
      "Wall time: 1min 40s\n"
     ]
    }
   ],
   "source": [
    "%%time\n",
    "#поехали\n",
    "weights, func = find_best_wghts(total)\n",
    "\n",
    "portfolio = pd.DataFrame(\n",
    "    {'product': names,\n",
    "     'weight': np.round(weights,2)\n",
    "    })\n",
    "\n",
    "print(portfolio)"
   ]
  },
  {
   "cell_type": "code",
   "execution_count": null,
   "metadata": {
    "collapsed": false
   },
   "outputs": [],
   "source": [
    "print('Best weights: ', np.round(weights,2))\n",
    "print('Return = ', np.round(utility(weights,total, 1),4))   \n",
    "print('Risk = ', np.round(utility(weights,total, 2),4))\n",
    "print('Utility function = ', np.round(utility(weights, total),2))"
   ]
  },
  {
   "cell_type": "code",
   "execution_count": null,
   "metadata": {
    "collapsed": false
   },
   "outputs": [],
   "source": [
    "%%time\n",
    "\n",
    "wghts = []\n",
    "KU = []\n",
    "inc = []\n",
    "rsk = []\n",
    "utl = []\n",
    "\n",
    "for test1 in range(-5,6): \n",
    "    # продукты\n",
    "    total = calc_products(prices, points_in_year, simulation_years, client_term, response_option = 2, response_option_value = 1 + test1/40)    \n",
    "    weights, func = find_best_wghts()    \n",
    "    wghts.append(weights)\n",
    "    KU.append(1 + test1/10)\n",
    "    inc.append(utility([0,0,0,1,0],1))\n",
    "    rsk.append(utility([0,0,0,1,0],2))\n",
    "    utl.append(func) \n",
    "    print('weights: ',  np.round(weights,2))"
   ]
  },
  {
   "cell_type": "code",
   "execution_count": null,
   "metadata": {
    "collapsed": false
   },
   "outputs": [],
   "source": [
    "plt.plot(KU, np.round(np.array(wghts)[:,4],2))\n",
    "plt.show()"
   ]
  },
  {
   "cell_type": "code",
   "execution_count": 9,
   "metadata": {
    "collapsed": false
   },
   "outputs": [
    {
     "name": "stdout",
     "output_type": "stream",
     "text": [
      "product:  ИСЖ ГФО\n",
      "income =  0.054733230423\n",
      "risk =  0.01\n",
      "utility =  -5.4733230423\n",
      "------------------------\n",
      "product:  ИСЖ новые технологии\n",
      "income =  0.0719166947475\n",
      "risk =  0.01\n",
      "utility =  -7.19166947475\n",
      "------------------------\n",
      "product:  ИСЖ потребительские товары\n",
      "income =  0.0587261318526\n",
      "risk =  0.01\n",
      "utility =  -5.87261318526\n",
      "------------------------\n",
      "product:  ИСЖ MCD DAL DIS\n",
      "income =  0.0506429503783\n",
      "risk =  0.01\n",
      "utility =  -5.06429503783\n",
      "------------------------\n",
      "product:  ИСЖ дойче купон\n",
      "income =  0.0402396772654\n",
      "risk =  0.01\n",
      "utility =  -4.02396772654\n",
      "------------------------\n",
      "product:  ИСЖ 4 фармы\n",
      "income =  0.0192830383249\n",
      "risk =  0.01\n",
      "utility =  -1.92830383249\n",
      "------------------------\n",
      "product:  ИСЖ 4+1 фармы\n",
      "income =  0.016869268415\n",
      "risk =  0.01\n",
      "utility =  -1.6869268415\n",
      "------------------------\n",
      "product:  Callable note MCD\n",
      "income =  0.141288861148\n",
      "risk =  0.156374438184\n",
      "utility =  -0.903529136791\n",
      "------------------------\n",
      "product:  Депозит 1\n",
      "income =  0.01\n",
      "risk =  0.01\n",
      "utility =  -1.0\n",
      "------------------------\n",
      "product:  Депозит 2\n",
      "income =  0.00601652753096\n",
      "risk =  0.01\n",
      "utility =  -0.601652753096\n",
      "------------------------\n",
      "product:  ПИФ \"Илья Муромец\"\n",
      "income =  -0.00318122328634\n",
      "risk =  0.0296230010919\n",
      "utility =  0.107390310538\n",
      "------------------------\n",
      "product:  ПИФ \"Компании малой капитализации\"\n",
      "income =  0.0383122824662\n",
      "risk =  0.0353519578272\n",
      "utility =  -1.08373863347\n",
      "------------------------\n",
      "product:  ПИФ \"Сбалансированный\"\n",
      "income =  0.0429642065703\n",
      "risk =  0.0254592413053\n",
      "utility =  -1.6875682215\n",
      "------------------------\n",
      "product:  БСО АДР Сбербанка\n",
      "income =  0.0899194206269\n",
      "risk =  0.01\n",
      "utility =  -8.99194206269\n",
      "------------------------\n"
     ]
    }
   ],
   "source": [
    "for i in range(0,len(names)):\n",
    "    weights = np.zeros(len(names))\n",
    "    weights[i] = 1\n",
    "    print('product: ', names[i])\n",
    "    print('income = ', utility(weights, total, 1))\n",
    "    print('risk = ', utility(weights, total, 2))\n",
    "    print('utility = ', utility(weights, total))    \n",
    "    print('------------------------')"
   ]
  },
  {
   "cell_type": "code",
   "execution_count": null,
   "metadata": {
    "collapsed": false
   },
   "outputs": [],
   "source": [
    "plt.plot(delta, pd.DataFrame(wght)[4])\n",
    "plt.show()"
   ]
  },
  {
   "cell_type": "code",
   "execution_count": null,
   "metadata": {
    "collapsed": false
   },
   "outputs": [],
   "source": [
    "total.shape"
   ]
  },
  {
   "cell_type": "code",
   "execution_count": null,
   "metadata": {
    "collapsed": false
   },
   "outputs": [],
   "source": [
    "total.sum(axis = 1)[:,5]"
   ]
  }
 ],
 "metadata": {
  "kernelspec": {
   "display_name": "Python 3",
   "language": "python",
   "name": "python3"
  },
  "language_info": {
   "codemirror_mode": {
    "name": "ipython",
    "version": 3
   },
   "file_extension": ".py",
   "mimetype": "text/x-python",
   "name": "python",
   "nbconvert_exporter": "python",
   "pygments_lexer": "ipython3",
   "version": "3.6.0"
  }
 },
 "nbformat": 4,
 "nbformat_minor": 2
}
