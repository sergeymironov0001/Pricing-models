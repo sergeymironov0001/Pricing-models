{
 "cells": [
  {
   "cell_type": "markdown",
   "metadata": {},
   "source": [
    "### Оптимизация портфеля"
   ]
  },
  {
   "cell_type": "code",
   "execution_count": null,
   "metadata": {
    "collapsed": true
   },
   "outputs": [],
   "source": [
    "Иницилизация,"
   ]
  },
  {
   "cell_type": "code",
   "execution_count": 1,
   "metadata": {
    "collapsed": false
   },
   "outputs": [],
   "source": [
    "from pfp_products import *\n",
    "from pfp_optimization import *\n",
    "from pfp_stat import *\n",
    "import numpy as np\n",
    "import pandas as pd \n",
    "\n",
    "# set constants & assumbtions\n",
    "\n",
    "n_scenarios = 1000\n",
    "simulation_years = 10         # срок моделирования инструментов - 10 лет\n",
    "client_term = 10              # срок портфеля - 10 лет\n",
    "points_in_year = 12           # 12 модельных точек в году"
   ]
  },
  {
   "cell_type": "code",
   "execution_count": 2,
   "metadata": {
    "collapsed": false,
    "scrolled": false
   },
   "outputs": [
    {
     "name": "stdout",
     "output_type": "stream",
     "text": [
      "Means: \n",
      "BAYN GY Equity       0.051034\n",
      "DIS us equity        0.110666\n",
      "DAL us equity        0.231161\n",
      "ROG SE Equity        0.005159\n",
      "ADS GY equity        0.167868\n",
      "SBER LI EQUITY       0.027361\n",
      "PFE UN Equity        0.045947\n",
      "TRDILMS RU EQUITY    0.065819\n",
      "NOVN SE Equity       0.032227\n",
      "PIMGCIA ID equity    0.031510\n",
      "IXN us equity        0.168959\n",
      "MCD us equity        0.097899\n",
      "XLP us equity        0.048813\n",
      "SAN FP Equity       -0.033702\n",
      "TRDDRUZ RU EQUITY    0.108175\n",
      "TRDPTNT RU EQUITY    0.102709\n",
      "HEN3 GY equity       0.070517\n",
      "DAI GY equity        0.073006\n",
      "dtype: float64\n",
      "Sigmas: \n",
      "BAYN GY Equity       0.031690\n",
      "DIS us equity        0.025126\n",
      "DAL us equity        0.039583\n",
      "ROG SE Equity        0.025640\n",
      "ADS GY equity        0.035377\n",
      "SBER LI EQUITY       0.058693\n",
      "PFE UN Equity        0.024172\n",
      "TRDILMS RU EQUITY    0.010403\n",
      "NOVN SE Equity       0.025714\n",
      "PIMGCIA ID equity    0.004473\n",
      "IXN us equity        0.019998\n",
      "MCD us equity        0.020697\n",
      "XLP us equity        0.014980\n",
      "SAN FP Equity        0.029694\n",
      "TRDDRUZ RU EQUITY    0.014571\n",
      "TRDPTNT RU EQUITY    0.021622\n",
      "HEN3 GY equity       0.026117\n",
      "DAI GY equity        0.034951\n",
      "dtype: float64\n",
      "Correlations: \n",
      "                   BAYN GY Equity  DIS us equity  DAL us equity  \\\n",
      "BAYN GY Equity           1.000000       0.360403       0.177514   \n",
      "DIS us equity            0.360403       1.000000       0.322090   \n",
      "DAL us equity            0.177514       0.322090       1.000000   \n",
      "ROG SE Equity            0.436875       0.321776       0.271482   \n",
      "ADS GY equity            0.326343       0.204945       0.120511   \n",
      "SBER LI EQUITY           0.200544       0.361679       0.129208   \n",
      "PFE UN Equity            0.314639       0.419392       0.215589   \n",
      "TRDILMS RU EQUITY        0.029861       0.008969       0.002383   \n",
      "NOVN SE Equity           0.451177       0.355586       0.226956   \n",
      "PIMGCIA ID equity        0.214013       0.084735       0.109645   \n",
      "IXN us equity            0.498621       0.562918       0.432600   \n",
      "MCD us equity            0.322584       0.290390       0.163041   \n",
      "XLP us equity            0.318703       0.470198       0.286709   \n",
      "SAN FP Equity            0.510793       0.286431       0.245934   \n",
      "TRDDRUZ RU EQUITY        0.266558       0.203569       0.131082   \n",
      "TRDPTNT RU EQUITY        0.218028       0.155380       0.187078   \n",
      "HEN3 GY equity           0.561531       0.272284       0.127764   \n",
      "DAI GY equity            0.599060       0.367437       0.315473   \n",
      "\n",
      "                   ROG SE Equity  ADS GY equity  SBER LI EQUITY  \\\n",
      "BAYN GY Equity          0.436875       0.326343        0.200544   \n",
      "DIS us equity           0.321776       0.204945        0.361679   \n",
      "DAL us equity           0.271482       0.120511        0.129208   \n",
      "ROG SE Equity           1.000000       0.232246        0.288247   \n",
      "ADS GY equity           0.232246       1.000000        0.284938   \n",
      "SBER LI EQUITY          0.288247       0.284938        1.000000   \n",
      "PFE UN Equity           0.363315       0.227761        0.162708   \n",
      "TRDILMS RU EQUITY       0.082639       0.130628        0.229142   \n",
      "NOVN SE Equity          0.678681       0.259881        0.250700   \n",
      "PIMGCIA ID equity       0.158012       0.179030        0.202521   \n",
      "IXN us equity           0.445722       0.392982        0.396739   \n",
      "MCD us equity           0.227757       0.258761        0.156196   \n",
      "XLP us equity           0.273817       0.310881        0.309873   \n",
      "SAN FP Equity           0.473540       0.235533        0.205864   \n",
      "TRDDRUZ RU EQUITY       0.179435       0.256576        0.666880   \n",
      "TRDPTNT RU EQUITY       0.139533       0.196150        0.408694   \n",
      "HEN3 GY equity          0.367000       0.387600        0.291666   \n",
      "DAI GY equity           0.322081       0.408116        0.333428   \n",
      "\n",
      "                   PFE UN Equity  TRDILMS RU EQUITY  NOVN SE Equity  \\\n",
      "BAYN GY Equity          0.314639           0.029861        0.451177   \n",
      "DIS us equity           0.419392           0.008969        0.355586   \n",
      "DAL us equity           0.215589           0.002383        0.226956   \n",
      "ROG SE Equity           0.363315           0.082639        0.678681   \n",
      "ADS GY equity           0.227761           0.130628        0.259881   \n",
      "SBER LI EQUITY          0.162708           0.229142        0.250700   \n",
      "PFE UN Equity           1.000000          -0.010871        0.469745   \n",
      "TRDILMS RU EQUITY      -0.010871           1.000000        0.007083   \n",
      "NOVN SE Equity          0.469745           0.007083        1.000000   \n",
      "PIMGCIA ID equity       0.180320           0.064781        0.182824   \n",
      "IXN us equity           0.442162           0.008221        0.509762   \n",
      "MCD us equity           0.254813          -0.047544        0.356205   \n",
      "XLP us equity           0.497762          -0.017247        0.327123   \n",
      "SAN FP Equity           0.362723           0.064863        0.478164   \n",
      "TRDDRUZ RU EQUITY       0.115215           0.352524        0.197387   \n",
      "TRDPTNT RU EQUITY       0.143152           0.265858        0.151422   \n",
      "HEN3 GY equity          0.206832           0.046949        0.373321   \n",
      "DAI GY equity           0.203218           0.046193        0.355492   \n",
      "\n",
      "                   PIMGCIA ID equity  IXN us equity  MCD us equity  \\\n",
      "BAYN GY Equity              0.214013       0.498621       0.322584   \n",
      "DIS us equity               0.084735       0.562918       0.290390   \n",
      "DAL us equity               0.109645       0.432600       0.163041   \n",
      "ROG SE Equity               0.158012       0.445722       0.227757   \n",
      "ADS GY equity               0.179030       0.392982       0.258761   \n",
      "SBER LI EQUITY              0.202521       0.396739       0.156196   \n",
      "PFE UN Equity               0.180320       0.442162       0.254813   \n",
      "TRDILMS RU EQUITY           0.064781       0.008221      -0.047544   \n",
      "NOVN SE Equity              0.182824       0.509762       0.356205   \n",
      "PIMGCIA ID equity           1.000000       0.223756       0.165336   \n",
      "IXN us equity               0.223756       1.000000       0.429157   \n",
      "MCD us equity               0.165336       0.429157       1.000000   \n",
      "XLP us equity               0.412115       0.584428       0.458049   \n",
      "SAN FP Equity               0.202919       0.413405       0.242249   \n",
      "TRDDRUZ RU EQUITY           0.143036       0.328184       0.058550   \n",
      "TRDPTNT RU EQUITY           0.119892       0.310661      -0.013035   \n",
      "HEN3 GY equity              0.324552       0.401710       0.247590   \n",
      "DAI GY equity               0.182933       0.551861       0.247395   \n",
      "\n",
      "                   XLP us equity  SAN FP Equity  TRDDRUZ RU EQUITY  \\\n",
      "BAYN GY Equity          0.318703       0.510793           0.266558   \n",
      "DIS us equity           0.470198       0.286431           0.203569   \n",
      "DAL us equity           0.286709       0.245934           0.131082   \n",
      "ROG SE Equity           0.273817       0.473540           0.179435   \n",
      "ADS GY equity           0.310881       0.235533           0.256576   \n",
      "SBER LI EQUITY          0.309873       0.205864           0.666880   \n",
      "PFE UN Equity           0.497762       0.362723           0.115215   \n",
      "TRDILMS RU EQUITY      -0.017247       0.064863           0.352524   \n",
      "NOVN SE Equity          0.327123       0.478164           0.197387   \n",
      "PIMGCIA ID equity       0.412115       0.202919           0.143036   \n",
      "IXN us equity           0.584428       0.413405           0.328184   \n",
      "MCD us equity           0.458049       0.242249           0.058550   \n",
      "XLP us equity           1.000000       0.272386           0.132177   \n",
      "SAN FP Equity           0.272386       1.000000           0.215911   \n",
      "TRDDRUZ RU EQUITY       0.132177       0.215911           1.000000   \n",
      "TRDPTNT RU EQUITY       0.072741       0.182546           0.805551   \n",
      "HEN3 GY equity          0.372363       0.396047           0.279104   \n",
      "DAI GY equity           0.296033       0.398954           0.353715   \n",
      "\n",
      "                   TRDPTNT RU EQUITY  HEN3 GY equity  DAI GY equity  \n",
      "BAYN GY Equity              0.218028        0.561531       0.599060  \n",
      "DIS us equity               0.155380        0.272284       0.367437  \n",
      "DAL us equity               0.187078        0.127764       0.315473  \n",
      "ROG SE Equity               0.139533        0.367000       0.322081  \n",
      "ADS GY equity               0.196150        0.387600       0.408116  \n",
      "SBER LI EQUITY              0.408694        0.291666       0.333428  \n",
      "PFE UN Equity               0.143152        0.206832       0.203218  \n",
      "TRDILMS RU EQUITY           0.265858        0.046949       0.046193  \n",
      "NOVN SE Equity              0.151422        0.373321       0.355492  \n",
      "PIMGCIA ID equity           0.119892        0.324552       0.182933  \n",
      "IXN us equity               0.310661        0.401710       0.551861  \n",
      "MCD us equity              -0.013035        0.247590       0.247395  \n",
      "XLP us equity               0.072741        0.372363       0.296033  \n",
      "SAN FP Equity               0.182546        0.396047       0.398954  \n",
      "TRDDRUZ RU EQUITY           0.805551        0.279104       0.353715  \n",
      "TRDPTNT RU EQUITY           1.000000        0.243768       0.335017  \n",
      "HEN3 GY equity              0.243768        1.000000       0.462623  \n",
      "DAI GY equity               0.335017        0.462623       1.000000  \n"
     ]
    }
   ],
   "source": [
    "# Моделируем базовые активы\n",
    "BAs = read_prodcat('prodcat.xlsx')[2]\n",
    "prices = ba_scenarios(BAs, simulation_years, points_in_year, n_scenarios)\n",
    "\n",
    "# Моделируем продукты\n",
    "total, names = calc_products2(prices, simulation_years, points_in_year, client_term)\n",
    "\n",
    "# сейчас этот модуль выводит статистики по моделируемым инструментам: средние, волатильности и корреляции. \n",
    "# Все в масштабе года."
   ]
  },
  {
   "cell_type": "markdown",
   "metadata": {},
   "source": [
    "#### Строим распределение доходностей, считаем среднюю доходность, волатильности фин результата и риск (средние потери) по всем продуктам, участвующим в расчете."
   ]
  },
  {
   "cell_type": "code",
   "execution_count": 3,
   "metadata": {
    "collapsed": false,
    "scrolled": false
   },
   "outputs": [
    {
     "name": "stdout",
     "output_type": "stream",
     "text": [
      "1.0 \t\t ИСЖ ГФО\n"
     ]
    },
    {
     "data": {
      "image/png": "[encoded data removed]",
      "text/plain": [
       "<matplotlib.figure.Figure at 0x10f3b9b38>"
      ]
     },
     "metadata": {},
     "output_type": "display_data"
    },
    {
     "name": "stdout",
     "output_type": "stream",
     "text": [
      "income = \t\t 0.0530140890731\n",
      "volatility = \t\t 0.0192168317192\n",
      "risk =   \t\t 0\n",
      "------------------------\n",
      "1.0 \t\t ИСЖ новые технологии\n"
     ]
    },
    {
     "data": {
      "image/png": "[encoded data removed]",
      "text/plain": [
       "<matplotlib.figure.Figure at 0x10bb206a0>"
      ]
     },
     "metadata": {},
     "output_type": "display_data"
    },
    {
     "name": "stdout",
     "output_type": "stream",
     "text": [
      "income = \t\t 0.0498852922842\n",
      "volatility = \t\t 0.0251951304128\n",
      "risk =   \t\t 0\n",
      "------------------------\n",
      "1.0 \t\t ИСЖ потребительские товары\n"
     ]
    },
    {
     "data": {
      "image/png": "[encoded data removed]",
      "text/plain": [
       "<matplotlib.figure.Figure at 0x10bc68470>"
      ]
     },
     "metadata": {},
     "output_type": "display_data"
    },
    {
     "name": "stdout",
     "output_type": "stream",
     "text": [
      "income = \t\t 0.0602254579368\n",
      "volatility = \t\t 0.0564729930608\n",
      "risk =   \t\t 0\n",
      "------------------------\n",
      "1.0 \t\t ИСЖ MCD DAL DIS\n"
     ]
    },
    {
     "data": {
      "image/png": "[encoded data removed]",
      "text/plain": [
       "<matplotlib.figure.Figure at 0x10bb20c88>"
      ]
     },
     "metadata": {},
     "output_type": "display_data"
    },
    {
     "name": "stdout",
     "output_type": "stream",
     "text": [
      "income = \t\t 0.0236637565918\n",
      "volatility = \t\t 0.0183245314371\n",
      "risk =   \t\t 0\n",
      "------------------------\n",
      "1.0 \t\t ИСЖ дойче купон\n"
     ]
    },
    {
     "data": {
      "image/png": "[encoded data removed]",
      "text/plain": [
       "<matplotlib.figure.Figure at 0x10bc5ec50>"
      ]
     },
     "metadata": {},
     "output_type": "display_data"
    },
    {
     "name": "stdout",
     "output_type": "stream",
     "text": [
      "income = \t\t 0.0413836511328\n",
      "volatility = \t\t 0.0242604601022\n",
      "risk =   \t\t 0\n",
      "------------------------\n",
      "1.0 \t\t ИСЖ 4 фармы\n"
     ]
    },
    {
     "data": {
      "image/png": "[encoded data removed]",
      "text/plain": [
       "<matplotlib.figure.Figure at 0x112e60da0>"
      ]
     },
     "metadata": {},
     "output_type": "display_data"
    },
    {
     "name": "stdout",
     "output_type": "stream",
     "text": [
      "income = \t\t 0.0190507024949\n",
      "volatility = \t\t 0.0245509219042\n",
      "risk =   \t\t 0\n",
      "------------------------\n",
      "1.0 \t\t ИСЖ 4+1 фармы\n"
     ]
    },
    {
     "data": {
      "image/png": "[encoded data removed]",
      "text/plain": [
       "<matplotlib.figure.Figure at 0x10bde0ba8>"
      ]
     },
     "metadata": {},
     "output_type": "display_data"
    },
    {
     "name": "stdout",
     "output_type": "stream",
     "text": [
      "income = \t\t 0.0169367522031\n",
      "volatility = \t\t 0.0238617007688\n",
      "risk =   \t\t 0\n",
      "------------------------\n",
      "1.0 \t\t Callable note MCD\n"
     ]
    },
    {
     "data": {
      "image/png": "[encoded data removed]",
      "text/plain": [
       "<matplotlib.figure.Figure at 0x10bdd97b8>"
      ]
     },
     "metadata": {},
     "output_type": "display_data"
    },
    {
     "name": "stdout",
     "output_type": "stream",
     "text": [
      "income = \t\t 0.142401215655\n",
      "volatility = \t\t 0.0387577291915\n",
      "risk =   \t\t 0.145557835733\n",
      "------------------------\n",
      "1.0 \t\t Депозит 1\n"
     ]
    },
    {
     "data": {
      "image/png": "[encoded data removed]",
      "text/plain": [
       "<matplotlib.figure.Figure at 0x112e0b7b8>"
      ]
     },
     "metadata": {},
     "output_type": "display_data"
    },
    {
     "name": "stdout",
     "output_type": "stream",
     "text": [
      "income = \t\t 0.01\n",
      "volatility = \t\t 0\n",
      "risk =   \t\t 0\n",
      "------------------------\n",
      "1.0 \t\t Депозит 2\n"
     ]
    },
    {
     "data": {
      "image/png": "[encoded data removed]",
      "text/plain": [
       "<matplotlib.figure.Figure at 0x10bff74a8>"
      ]
     },
     "metadata": {},
     "output_type": "display_data"
    },
    {
     "name": "stdout",
     "output_type": "stream",
     "text": [
      "income = \t\t 0.00601652753096\n",
      "volatility = \t\t 0\n",
      "risk =   \t\t 0\n",
      "------------------------\n",
      "1.0 \t\t ПИФ \"Илья Муромец\"\n"
     ]
    },
    {
     "data": {
      "image/png": "[encoded data removed]",
      "text/plain": [
       "<matplotlib.figure.Figure at 0x10bb9b7b8>"
      ]
     },
     "metadata": {},
     "output_type": "display_data"
    },
    {
     "name": "stdout",
     "output_type": "stream",
     "text": [
      "income = \t\t 0.0671969967279\n",
      "volatility = \t\t 0.0251720981377\n",
      "risk =   \t\t 0.00554298853153\n",
      "------------------------\n",
      "1.0 \t\t ПИФ \"Компании малой капитализации\"\n"
     ]
    },
    {
     "data": {
      "image/png": "[encoded data removed]",
      "text/plain": [
       "<matplotlib.figure.Figure at 0x10bb67f98>"
      ]
     },
     "metadata": {},
     "output_type": "display_data"
    },
    {
     "name": "stdout",
     "output_type": "stream",
     "text": [
      "income = \t\t 0.136937115322\n",
      "volatility = \t\t 0.0567881196795\n",
      "risk =   \t\t 0.0164022955803\n",
      "------------------------\n",
      "1.0 \t\t ПИФ \"Сбалансированный\"\n"
     ]
    },
    {
     "data": {
      "image/png": "[encoded data removed]",
      "text/plain": [
       "<matplotlib.figure.Figure at 0x10bb914a8>"
      ]
     },
     "metadata": {},
     "output_type": "display_data"
    },
    {
     "name": "stdout",
     "output_type": "stream",
     "text": [
      "income = \t\t 0.113778875593\n",
      "volatility = \t\t 0.0368667570514\n",
      "risk =   \t\t 0\n",
      "------------------------\n",
      "1.0 \t\t БСО АДР Сбербанка\n"
     ]
    },
    {
     "data": {
      "image/png": "[encoded data removed]",
      "text/plain": [
       "<matplotlib.figure.Figure at 0x10bfd9780>"
      ]
     },
     "metadata": {},
     "output_type": "display_data"
    },
    {
     "name": "stdout",
     "output_type": "stream",
     "text": [
      "income = \t\t 0.0857134992363\n",
      "volatility = \t\t 0.127561260626\n",
      "risk =   \t\t 0\n",
      "------------------------\n"
     ]
    }
   ],
   "source": [
    "%matplotlib inline\n",
    "\n",
    "# на какие продукты смотрим?\n",
    "for i in range(0,len(names)):\n",
    "    weights = np.zeros(len(names))\n",
    "    weights[i] = 1\n",
    "    report(weights, total, names)"
   ]
  },
  {
   "cell_type": "markdown",
   "metadata": {},
   "source": [
    "#### Теперь будем оптимизировать.\n",
    "Сначала будем штрафровать функицю полезности за уровень риска портфеля и уровень волатильности финансового результата.\n",
    "Если штрафовать строго - останется только депозит:"
   ]
  },
  {
   "cell_type": "code",
   "execution_count": null,
   "metadata": {
    "collapsed": false,
    "scrolled": false
   },
   "outputs": [
    {
     "name": "stdout",
     "output_type": "stream",
     "text": [
      "0.42 \t\t ИСЖ ГФО\n",
      "0.19 \t\t ИСЖ новые технологии\n",
      "0.03 \t\t ИСЖ дойче купон\n",
      "0.08 \t\t Депозит 1\n",
      "0.19 \t\t ПИФ \"Илья Муромец\"\n",
      "0.09 \t\t ПИФ \"Сбалансированный\"\n"
     ]
    },
    {
     "data": {
      "image/png": "[encoded data removed]",
      "text/plain": [
       "<matplotlib.figure.Figure at 0x10ed495c0>"
      ]
     },
     "metadata": {},
     "output_type": "display_data"
    },
    {
     "name": "stdout",
     "output_type": "stream",
     "text": [
      "income = \t\t 0.0668196958389\n",
      "volatility = \t\t 0.0152247497826\n",
      "risk =   \t\t 0\n",
      "------------------------\n",
      "CPU times: user 5min 59s, sys: 9.32 s, total: 6min 8s\n",
      "Wall time: 6min 18s\n"
     ]
    }
   ],
   "source": [
    "%%time\n",
    "\n",
    "#поехали\n",
    "vol_penalty = 1\n",
    "risk_penalty = 1\n",
    "\n",
    "weights, func = find_best_wghts(total, vol_penalty, risk_penalty)\n",
    "report(np.round(weights,2), total, names, vol_penalty, risk_penalty) \n"
   ]
  },
  {
   "cell_type": "markdown",
   "metadata": {},
   "source": [
    "Попробуем уменьшить штраф за волатильность. Видно, что теперь в портфель попало больше инструментов, причем основную долю забрали ГФО (37%), Новые технологии (29%) и ПИФ Илья Муромец (21%)."
   ]
  },
  {
   "cell_type": "code",
   "execution_count": null,
   "metadata": {
    "collapsed": false
   },
   "outputs": [],
   "source": [
    "%%time\n",
    "#поехали\n",
    "vol_penalty = 0.5\n",
    "risk_penalty = 1\n",
    "\n",
    "weights, func = find_best_wghts(total, vol_penalty, risk_penalty)\n",
    "report(np.round(weights,2), total, names, vol_penalty, risk_penalty) "
   ]
  },
  {
   "cell_type": "markdown",
   "metadata": {},
   "source": [
    "Уберем штраф за волатильность совсем. \n",
    "Теперь модель старательно минимизирует риск, но на волатильность доходности не обращет внимания. И максимизирует среднюю доходность.\n",
    "\n",
    "Баланс в портфеле изменился. \n",
    "Теперь ГФО 18%, ПИФ Сбалансированный - 14%, а БСО на АДР Сбера - 67%!"
   ]
  },
  {
   "cell_type": "code",
   "execution_count": null,
   "metadata": {
    "collapsed": false,
    "scrolled": false
   },
   "outputs": [],
   "source": [
    "%%time\n",
    "#поехали\n",
    "vol_penalty = 0\n",
    "risk_penalty = 1\n",
    "\n",
    "weights, func = find_best_wghts(total, vol_penalty, risk_penalty)\n",
    "report(np.round(weights,2), total, names, vol_penalty, risk_penalty) "
   ]
  },
  {
   "cell_type": "markdown",
   "metadata": {},
   "source": [
    "Отменим штрафы за волатильности и риск совсем.\n",
    "Как и ожидалось - модель оставляет в портфеле всего один продукт - ПИФ компаний малой капитализации."
   ]
  },
  {
   "cell_type": "code",
   "execution_count": null,
   "metadata": {
    "collapsed": false
   },
   "outputs": [],
   "source": [
    "%%time\n",
    "#поехали\n",
    "vol_penalty = 0\n",
    "risk_penalty = 0\n",
    "\n",
    "weights, func = find_best_wghts(total, vol_penalty, risk_penalty)\n",
    "report(np.round(weights,2), total, names, vol_penalty, risk_penalty) "
   ]
  },
  {
   "cell_type": "code",
   "execution_count": null,
   "metadata": {
    "collapsed": true
   },
   "outputs": [],
   "source": []
  },
  {
   "cell_type": "code",
   "execution_count": null,
   "metadata": {
    "collapsed": true
   },
   "outputs": [],
   "source": []
  }
 ],
 "metadata": {
  "kernelspec": {
   "display_name": "Python 3",
   "language": "python",
   "name": "python3"
  },
  "language_info": {
   "codemirror_mode": {
    "name": "ipython",
    "version": 3
   },
   "file_extension": ".py",
   "mimetype": "text/x-python",
   "name": "python",
   "nbconvert_exporter": "python",
   "pygments_lexer": "ipython3",
   "version": "3.6.0"
  }
 },
 "nbformat": 4,
 "nbformat_minor": 2
}
