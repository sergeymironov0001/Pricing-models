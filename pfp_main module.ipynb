{
 "cells": [
  {
   "cell_type": "markdown",
   "metadata": {},
   "source": [
    "### Оптимизация портфеля"
   ]
  },
  {
   "cell_type": "markdown",
   "metadata": {},
   "source": [
    "Иницилизация, константы"
   ]
  },
  {
   "cell_type": "code",
   "execution_count": 1,
   "metadata": {
    "collapsed": false
   },
   "outputs": [],
   "source": [
    "from pfp_products import *\n",
    "from pfp_optimization import *\n",
    "from pfp_stat import *\n",
    "import numpy as np\n",
    "import pandas as pd \n",
    "\n",
    "# set constants & assumbtions\n",
    "\n",
    "n_scenarios = 1000\n",
    "simulation_years = 10         # срок моделирования инструментов - 10 лет\n",
    "client_term = 10              # срок портфеля - 10 лет\n",
    "points_in_year = 12           # 12 модельных точек в году"
   ]
  },
  {
   "cell_type": "markdown",
   "metadata": {},
   "source": [
    "Моделируем базовые активы и продукты.\n",
    "Сейчас, в тестовом режиме, этот модуль выводит статистики по моделируемым инструментам: средние, волатильности и корреляции. Все - annualized."
   ]
  },
  {
   "cell_type": "code",
   "execution_count": 2,
   "metadata": {
    "collapsed": false,
    "scrolled": false
   },
   "outputs": [
    {
     "name": "stdout",
     "output_type": "stream",
     "text": [
      "Means: \n",
      "XLP us equity        0.048813\n",
      "ADS GY equity        0.167868\n",
      "DIS us equity        0.110666\n",
      "BAYN GY Equity       0.051034\n",
      "SBER LI EQUITY       0.027361\n",
      "NOVN SE Equity       0.032227\n",
      "PIMGCIA ID equity    0.031510\n",
      "ROG SE Equity        0.005159\n",
      "TRDPTNT RU EQUITY    0.102709\n",
      "SAN FP Equity       -0.033702\n",
      "PFE UN Equity        0.045947\n",
      "TRDILMS RU EQUITY    0.065819\n",
      "TRDDRUZ RU EQUITY    0.108175\n",
      "IXN us equity        0.168959\n",
      "DAL us equity        0.231161\n",
      "HEN3 GY equity       0.070517\n",
      "DAI GY equity        0.073006\n",
      "MCD us equity        0.097899\n",
      "dtype: float64\n",
      "Sigmas: \n",
      "XLP us equity        0.014980\n",
      "ADS GY equity        0.035377\n",
      "DIS us equity        0.025126\n",
      "BAYN GY Equity       0.031690\n",
      "SBER LI EQUITY       0.058693\n",
      "NOVN SE Equity       0.025714\n",
      "PIMGCIA ID equity    0.004473\n",
      "ROG SE Equity        0.025640\n",
      "TRDPTNT RU EQUITY    0.021622\n",
      "SAN FP Equity        0.029694\n",
      "PFE UN Equity        0.024172\n",
      "TRDILMS RU EQUITY    0.010403\n",
      "TRDDRUZ RU EQUITY    0.014571\n",
      "IXN us equity        0.019998\n",
      "DAL us equity        0.039583\n",
      "HEN3 GY equity       0.026117\n",
      "DAI GY equity        0.034951\n",
      "MCD us equity        0.020697\n",
      "dtype: float64\n",
      "Correlations: \n",
      "                   XLP us equity  ADS GY equity  DIS us equity  \\\n",
      "XLP us equity           1.000000       0.310881       0.470198   \n",
      "ADS GY equity           0.310881       1.000000       0.204945   \n",
      "DIS us equity           0.470198       0.204945       1.000000   \n",
      "BAYN GY Equity          0.318703       0.326343       0.360403   \n",
      "SBER LI EQUITY          0.309873       0.284938       0.361679   \n",
      "NOVN SE Equity          0.327123       0.259881       0.355586   \n",
      "PIMGCIA ID equity       0.412115       0.179030       0.084735   \n",
      "ROG SE Equity           0.273817       0.232246       0.321776   \n",
      "TRDPTNT RU EQUITY       0.072741       0.196150       0.155380   \n",
      "SAN FP Equity           0.272386       0.235533       0.286431   \n",
      "PFE UN Equity           0.497762       0.227761       0.419392   \n",
      "TRDILMS RU EQUITY      -0.017247       0.130628       0.008969   \n",
      "TRDDRUZ RU EQUITY       0.132177       0.256576       0.203569   \n",
      "IXN us equity           0.584428       0.392982       0.562918   \n",
      "DAL us equity           0.286709       0.120511       0.322090   \n",
      "HEN3 GY equity          0.372363       0.387600       0.272284   \n",
      "DAI GY equity           0.296033       0.408116       0.367437   \n",
      "MCD us equity           0.458049       0.258761       0.290390   \n",
      "\n",
      "                   BAYN GY Equity  SBER LI EQUITY  NOVN SE Equity  \\\n",
      "XLP us equity            0.318703        0.309873        0.327123   \n",
      "ADS GY equity            0.326343        0.284938        0.259881   \n",
      "DIS us equity            0.360403        0.361679        0.355586   \n",
      "BAYN GY Equity           1.000000        0.200544        0.451177   \n",
      "SBER LI EQUITY           0.200544        1.000000        0.250700   \n",
      "NOVN SE Equity           0.451177        0.250700        1.000000   \n",
      "PIMGCIA ID equity        0.214013        0.202521        0.182824   \n",
      "ROG SE Equity            0.436875        0.288247        0.678681   \n",
      "TRDPTNT RU EQUITY        0.218028        0.408694        0.151422   \n",
      "SAN FP Equity            0.510793        0.205864        0.478164   \n",
      "PFE UN Equity            0.314639        0.162708        0.469745   \n",
      "TRDILMS RU EQUITY        0.029861        0.229142        0.007083   \n",
      "TRDDRUZ RU EQUITY        0.266558        0.666880        0.197387   \n",
      "IXN us equity            0.498621        0.396739        0.509762   \n",
      "DAL us equity            0.177514        0.129208        0.226956   \n",
      "HEN3 GY equity           0.561531        0.291666        0.373321   \n",
      "DAI GY equity            0.599060        0.333428        0.355492   \n",
      "MCD us equity            0.322584        0.156196        0.356205   \n",
      "\n",
      "                   PIMGCIA ID equity  ROG SE Equity  TRDPTNT RU EQUITY  \\\n",
      "XLP us equity               0.412115       0.273817           0.072741   \n",
      "ADS GY equity               0.179030       0.232246           0.196150   \n",
      "DIS us equity               0.084735       0.321776           0.155380   \n",
      "BAYN GY Equity              0.214013       0.436875           0.218028   \n",
      "SBER LI EQUITY              0.202521       0.288247           0.408694   \n",
      "NOVN SE Equity              0.182824       0.678681           0.151422   \n",
      "PIMGCIA ID equity           1.000000       0.158012           0.119892   \n",
      "ROG SE Equity               0.158012       1.000000           0.139533   \n",
      "TRDPTNT RU EQUITY           0.119892       0.139533           1.000000   \n",
      "SAN FP Equity               0.202919       0.473540           0.182546   \n",
      "PFE UN Equity               0.180320       0.363315           0.143152   \n",
      "TRDILMS RU EQUITY           0.064781       0.082639           0.265858   \n",
      "TRDDRUZ RU EQUITY           0.143036       0.179435           0.805551   \n",
      "IXN us equity               0.223756       0.445722           0.310661   \n",
      "DAL us equity               0.109645       0.271482           0.187078   \n",
      "HEN3 GY equity              0.324552       0.367000           0.243768   \n",
      "DAI GY equity               0.182933       0.322081           0.335017   \n",
      "MCD us equity               0.165336       0.227757          -0.013035   \n",
      "\n",
      "                   SAN FP Equity  PFE UN Equity  TRDILMS RU EQUITY  \\\n",
      "XLP us equity           0.272386       0.497762          -0.017247   \n",
      "ADS GY equity           0.235533       0.227761           0.130628   \n",
      "DIS us equity           0.286431       0.419392           0.008969   \n",
      "BAYN GY Equity          0.510793       0.314639           0.029861   \n",
      "SBER LI EQUITY          0.205864       0.162708           0.229142   \n",
      "NOVN SE Equity          0.478164       0.469745           0.007083   \n",
      "PIMGCIA ID equity       0.202919       0.180320           0.064781   \n",
      "ROG SE Equity           0.473540       0.363315           0.082639   \n",
      "TRDPTNT RU EQUITY       0.182546       0.143152           0.265858   \n",
      "SAN FP Equity           1.000000       0.362723           0.064863   \n",
      "PFE UN Equity           0.362723       1.000000          -0.010871   \n",
      "TRDILMS RU EQUITY       0.064863      -0.010871           1.000000   \n",
      "TRDDRUZ RU EQUITY       0.215911       0.115215           0.352524   \n",
      "IXN us equity           0.413405       0.442162           0.008221   \n",
      "DAL us equity           0.245934       0.215589           0.002383   \n",
      "HEN3 GY equity          0.396047       0.206832           0.046949   \n",
      "DAI GY equity           0.398954       0.203218           0.046193   \n",
      "MCD us equity           0.242249       0.254813          -0.047544   \n",
      "\n",
      "                   TRDDRUZ RU EQUITY  IXN us equity  DAL us equity  \\\n",
      "XLP us equity               0.132177       0.584428       0.286709   \n",
      "ADS GY equity               0.256576       0.392982       0.120511   \n",
      "DIS us equity               0.203569       0.562918       0.322090   \n",
      "BAYN GY Equity              0.266558       0.498621       0.177514   \n",
      "SBER LI EQUITY              0.666880       0.396739       0.129208   \n",
      "NOVN SE Equity              0.197387       0.509762       0.226956   \n",
      "PIMGCIA ID equity           0.143036       0.223756       0.109645   \n",
      "ROG SE Equity               0.179435       0.445722       0.271482   \n",
      "TRDPTNT RU EQUITY           0.805551       0.310661       0.187078   \n",
      "SAN FP Equity               0.215911       0.413405       0.245934   \n",
      "PFE UN Equity               0.115215       0.442162       0.215589   \n",
      "TRDILMS RU EQUITY           0.352524       0.008221       0.002383   \n",
      "TRDDRUZ RU EQUITY           1.000000       0.328184       0.131082   \n",
      "IXN us equity               0.328184       1.000000       0.432600   \n",
      "DAL us equity               0.131082       0.432600       1.000000   \n",
      "HEN3 GY equity              0.279104       0.401710       0.127764   \n",
      "DAI GY equity               0.353715       0.551861       0.315473   \n",
      "MCD us equity               0.058550       0.429157       0.163041   \n",
      "\n",
      "                   HEN3 GY equity  DAI GY equity  MCD us equity  \n",
      "XLP us equity            0.372363       0.296033       0.458049  \n",
      "ADS GY equity            0.387600       0.408116       0.258761  \n",
      "DIS us equity            0.272284       0.367437       0.290390  \n",
      "BAYN GY Equity           0.561531       0.599060       0.322584  \n",
      "SBER LI EQUITY           0.291666       0.333428       0.156196  \n",
      "NOVN SE Equity           0.373321       0.355492       0.356205  \n",
      "PIMGCIA ID equity        0.324552       0.182933       0.165336  \n",
      "ROG SE Equity            0.367000       0.322081       0.227757  \n",
      "TRDPTNT RU EQUITY        0.243768       0.335017      -0.013035  \n",
      "SAN FP Equity            0.396047       0.398954       0.242249  \n",
      "PFE UN Equity            0.206832       0.203218       0.254813  \n",
      "TRDILMS RU EQUITY        0.046949       0.046193      -0.047544  \n",
      "TRDDRUZ RU EQUITY        0.279104       0.353715       0.058550  \n",
      "IXN us equity            0.401710       0.551861       0.429157  \n",
      "DAL us equity            0.127764       0.315473       0.163041  \n",
      "HEN3 GY equity           1.000000       0.462623       0.247590  \n",
      "DAI GY equity            0.462623       1.000000       0.247395  \n",
      "MCD us equity            0.247590       0.247395       1.000000  \n"
     ]
    }
   ],
   "source": [
    "# базовые активы\n",
    "BAs = read_prodcat('prodcat.xlsx')[2]\n",
    "prices = ba_scenarios(BAs, simulation_years, points_in_year, n_scenarios)\n",
    "\n",
    "# продукты\n",
    "total, names = calc_products2(prices, simulation_years, points_in_year, client_term)"
   ]
  },
  {
   "cell_type": "markdown",
   "metadata": {},
   "source": [
    "Строим распределение доходностей, считаем среднюю доходность, волатильности фин результата и риск (средние потери) по всем продуктам, участвующим в расчете."
   ]
  },
  {
   "cell_type": "code",
   "execution_count": 3,
   "metadata": {
    "collapsed": false,
    "scrolled": false
   },
   "outputs": [
    {
     "name": "stdout",
     "output_type": "stream",
     "text": [
      "1.0 \t\t ИСЖ ГФО\n"
     ]
    },
    {
     "data": {
      "image/png": "[encoded data removed]",
      "text/plain": [
       "<matplotlib.figure.Figure at 0x1092a4400>"
      ]
     },
     "metadata": {},
     "output_type": "display_data"
    },
    {
     "name": "stdout",
     "output_type": "stream",
     "text": [
      "income = \t\t 0.0547333629045\n",
      "volatility = \t\t 0.0198927222621\n",
      "risk =   \t\t 0\n",
      "------------------------\n",
      "1.0 \t\t ИСЖ новые технологии\n"
     ]
    },
    {
     "data": {
      "image/png": "[encoded data removed]",
      "text/plain": [
       "<matplotlib.figure.Figure at 0x114f19400>"
      ]
     },
     "metadata": {},
     "output_type": "display_data"
    },
    {
     "name": "stdout",
     "output_type": "stream",
     "text": [
      "income = \t\t 0.0507035795822\n",
      "volatility = \t\t 0.0260341469417\n",
      "risk =   \t\t 0\n",
      "------------------------\n",
      "1.0 \t\t ИСЖ потребительские товары\n"
     ]
    },
    {
     "data": {
      "image/png": "[encoded data removed]",
      "text/plain": [
       "<matplotlib.figure.Figure at 0x114d3c710>"
      ]
     },
     "metadata": {},
     "output_type": "display_data"
    },
    {
     "name": "stdout",
     "output_type": "stream",
     "text": [
      "income = \t\t 0.0591069319263\n",
      "volatility = \t\t 0.0536105071658\n",
      "risk =   \t\t 0\n",
      "------------------------\n",
      "1.0 \t\t ИСЖ MCD DAL DIS\n"
     ]
    },
    {
     "data": {
      "image/png": "[encoded data removed]",
      "text/plain": [
       "<matplotlib.figure.Figure at 0x111518f98>"
      ]
     },
     "metadata": {},
     "output_type": "display_data"
    },
    {
     "name": "stdout",
     "output_type": "stream",
     "text": [
      "income = \t\t 0.0240143963293\n",
      "volatility = \t\t 0.0180938634713\n",
      "risk =   \t\t 0\n",
      "------------------------\n",
      "1.0 \t\t ИСЖ дойче купон\n"
     ]
    },
    {
     "data": {
      "image/png": "[encoded data removed]",
      "text/plain": [
       "<matplotlib.figure.Figure at 0x111411a20>"
      ]
     },
     "metadata": {},
     "output_type": "display_data"
    },
    {
     "name": "stdout",
     "output_type": "stream",
     "text": [
      "income = \t\t 0.0424530730696\n",
      "volatility = \t\t 0.0239225042259\n",
      "risk =   \t\t 0\n",
      "------------------------\n",
      "1.0 \t\t ИСЖ 4 фармы\n"
     ]
    },
    {
     "data": {
      "image/png": "[encoded data removed]",
      "text/plain": [
       "<matplotlib.figure.Figure at 0x117fe8208>"
      ]
     },
     "metadata": {},
     "output_type": "display_data"
    },
    {
     "name": "stdout",
     "output_type": "stream",
     "text": [
      "income = \t\t 0.0190439400287\n",
      "volatility = \t\t 0.0242059977108\n",
      "risk =   \t\t 0\n",
      "------------------------\n",
      "1.0 \t\t ИСЖ 4+1 фармы\n"
     ]
    },
    {
     "data": {
      "image/png": "[encoded data removed]",
      "text/plain": [
       "<matplotlib.figure.Figure at 0x1113f4630>"
      ]
     },
     "metadata": {},
     "output_type": "display_data"
    },
    {
     "name": "stdout",
     "output_type": "stream",
     "text": [
      "income = \t\t 0.0173688600958\n",
      "volatility = \t\t 0.0236627510999\n",
      "risk =   \t\t 0\n",
      "------------------------\n",
      "1.0 \t\t Callable note MCD\n"
     ]
    },
    {
     "data": {
      "image/png": "[encoded data removed]",
      "text/plain": [
       "<matplotlib.figure.Figure at 0x111465d30>"
      ]
     },
     "metadata": {},
     "output_type": "display_data"
    },
    {
     "name": "stdout",
     "output_type": "stream",
     "text": [
      "income = \t\t 0.143211728447\n",
      "volatility = \t\t 0.035030615342\n",
      "risk =   \t\t 0.15721498051\n",
      "------------------------\n",
      "1.0 \t\t Депозит 1\n"
     ]
    },
    {
     "data": {
      "image/png": "[encoded data removed]",
      "text/plain": [
       "<matplotlib.figure.Figure at 0x117fe87f0>"
      ]
     },
     "metadata": {},
     "output_type": "display_data"
    },
    {
     "name": "stdout",
     "output_type": "stream",
     "text": [
      "income = \t\t 0.01\n",
      "volatility = \t\t 0\n",
      "risk =   \t\t 0\n",
      "------------------------\n",
      "1.0 \t\t Депозит 2\n"
     ]
    },
    {
     "data": {
      "image/png": "[encoded data removed]",
      "text/plain": [
       "<matplotlib.figure.Figure at 0x1113f2550>"
      ]
     },
     "metadata": {},
     "output_type": "display_data"
    },
    {
     "name": "stdout",
     "output_type": "stream",
     "text": [
      "income = \t\t 0.00601652753096\n",
      "volatility = \t\t 0\n",
      "risk =   \t\t 0\n",
      "------------------------\n",
      "1.0 \t\t ПИФ \"Илья Муромец\"\n"
     ]
    },
    {
     "data": {
      "image/png": "[encoded data removed]",
      "text/plain": [
       "<matplotlib.figure.Figure at 0x109296b70>"
      ]
     },
     "metadata": {},
     "output_type": "display_data"
    },
    {
     "name": "stdout",
     "output_type": "stream",
     "text": [
      "income = \t\t 0.0678185955888\n",
      "volatility = \t\t 0.0253319719407\n",
      "risk =   \t\t 0.00381555214506\n",
      "------------------------\n",
      "1.0 \t\t ПИФ \"Компании малой капитализации\"\n"
     ]
    },
    {
     "data": {
      "image/png": "[encoded data removed]",
      "text/plain": [
       "<matplotlib.figure.Figure at 0x1117df7f0>"
      ]
     },
     "metadata": {},
     "output_type": "display_data"
    },
    {
     "name": "stdout",
     "output_type": "stream",
     "text": [
      "income = \t\t 0.139167310002\n",
      "volatility = \t\t 0.0580183052876\n",
      "risk =   \t\t 0.0135086537571\n",
      "------------------------\n",
      "1.0 \t\t ПИФ \"Сбалансированный\"\n"
     ]
    },
    {
     "data": {
      "image/png": "[encoded data removed]",
      "text/plain": [
       "<matplotlib.figure.Figure at 0x1113d7be0>"
      ]
     },
     "metadata": {},
     "output_type": "display_data"
    },
    {
     "name": "stdout",
     "output_type": "stream",
     "text": [
      "income = \t\t 0.11497157704\n",
      "volatility = \t\t 0.0380183379784\n",
      "risk =   \t\t 0\n",
      "------------------------\n",
      "1.0 \t\t БСО АДР Сбербанка\n"
     ]
    },
    {
     "data": {
      "image/png": "[encoded data removed]",
      "text/plain": [
       "<matplotlib.figure.Figure at 0x114ea6e48>"
      ]
     },
     "metadata": {},
     "output_type": "display_data"
    },
    {
     "name": "stdout",
     "output_type": "stream",
     "text": [
      "income = \t\t 0.0894191549433\n",
      "volatility = \t\t 0.137834350882\n",
      "risk =   \t\t 0\n",
      "------------------------\n"
     ]
    }
   ],
   "source": [
    "%matplotlib inline\n",
    "\n",
    "# на какие продукты смотрим?\n",
    "for i in range(0,len(names)):\n",
    "    weights = np.zeros(len(names))\n",
    "    weights[i] = 1\n",
    "    report(weights, total, names)"
   ]
  },
  {
   "cell_type": "markdown",
   "metadata": {},
   "source": [
    "#### Теперь будем оптимизировать.\n",
    "Сначала попробуем штрафровать функицю полезности за уровень риска портфеля и уровень волатильности финансового результата.\n",
    "Если штрафовать строго - останется только депозит, в котором нет ни риска, ни волатильности:"
   ]
  },
  {
   "cell_type": "code",
   "execution_count": 4,
   "metadata": {
    "collapsed": false,
    "scrolled": false
   },
   "outputs": [
    {
     "name": "stdout",
     "output_type": "stream",
     "text": [
      "1.0 \t\t Депозит 1\n"
     ]
    },
    {
     "data": {
      "image/png": "[encoded data removed]",
      "text/plain": [
       "<matplotlib.figure.Figure at 0x111342358>"
      ]
     },
     "metadata": {},
     "output_type": "display_data"
    },
    {
     "name": "stdout",
     "output_type": "stream",
     "text": [
      "income = \t\t 0.01\n",
      "volatility = \t\t 0\n",
      "risk =   \t\t 0\n",
      "------------------------\n",
      "CPU times: user 5min 20s, sys: 3.89 s, total: 5min 24s\n",
      "Wall time: 5min 25s\n"
     ]
    }
   ],
   "source": [
    "%%time\n",
    "\n",
    "#поехали\n",
    "vol_penalty = 1\n",
    "risk_penalty = 1\n",
    "\n",
    "weights, func = find_best_wghts(total, vol_penalty, risk_penalty)\n",
    "report(np.round(weights,2), total, names, vol_penalty, risk_penalty) "
   ]
  },
  {
   "cell_type": "markdown",
   "metadata": {},
   "source": [
    "Теперь уменьшим штраф за волатильность. Видно, что в портфель попало больше инструментов, причем основную долю забрали ГФО (38%), Новые технологии (23%) и ПИФ Илья Муромец (17%)."
   ]
  },
  {
   "cell_type": "code",
   "execution_count": 5,
   "metadata": {
    "collapsed": false
   },
   "outputs": [
    {
     "name": "stdout",
     "output_type": "stream",
     "text": [
      "0.38 \t\t ИСЖ ГФО\n",
      "0.23 \t\t ИСЖ новые технологии\n",
      "0.05 \t\t ИСЖ MCD DAL DIS\n",
      "0.12 \t\t ИСЖ дойче купон\n",
      "0.17 \t\t ПИФ \"Илья Муромец\"\n",
      "0.05 \t\t ПИФ \"Сбалансированный\"\n"
     ]
    },
    {
     "data": {
      "image/png": "[encoded data removed]",
      "text/plain": [
       "<matplotlib.figure.Figure at 0x111661748>"
      ]
     },
     "metadata": {},
     "output_type": "display_data"
    },
    {
     "name": "stdout",
     "output_type": "stream",
     "text": [
      "income = \t\t 0.0623012662845\n",
      "volatility = \t\t 0.0137353985309\n",
      "risk =   \t\t 0\n",
      "------------------------\n",
      "CPU times: user 5min 37s, sys: 3.46 s, total: 5min 40s\n",
      "Wall time: 5min 40s\n"
     ]
    }
   ],
   "source": [
    "%%time\n",
    "#поехали\n",
    "vol_penalty = 0.5\n",
    "risk_penalty = 1\n",
    "\n",
    "weights, func = find_best_wghts(total, vol_penalty, risk_penalty)\n",
    "report(np.round(weights,2), total, names, vol_penalty, risk_penalty) "
   ]
  },
  {
   "cell_type": "markdown",
   "metadata": {},
   "source": [
    "Уберем штраф за волатильность совсем. \n",
    "Теперь модель старательно минимизирует риск, но на волатильность доходности не обращет внимания. И максимизирует среднюю доходность.\n",
    "\n",
    "Баланс в портфеле изменился. \n",
    "Теперь ГФО 11%, БСО на АДР Сбера - 9%, а ПИФ компаний малой капитализации - 57%!\n",
    "Тут еще надо обратить внимание на Сбалансированный - текущие настройки ограничивают его долю 20%, к которой он подобрался вплотную."
   ]
  },
  {
   "cell_type": "code",
   "execution_count": 6,
   "metadata": {
    "collapsed": false,
    "scrolled": false
   },
   "outputs": [
    {
     "name": "stdout",
     "output_type": "stream",
     "text": [
      "0.11 \t\t ИСЖ ГФО\n",
      "0.02 \t\t ИСЖ новые технологии\n",
      "0.57 \t\t ПИФ \"Компании малой капитализации\"\n",
      "0.2 \t\t ПИФ \"Сбалансированный\"\n",
      "0.09 \t\t БСО АДР Сбербанка\n"
     ]
    },
    {
     "data": {
      "image/png": "[encoded data removed]",
      "text/plain": [
       "<matplotlib.figure.Figure at 0x114d3c518>"
      ]
     },
     "metadata": {},
     "output_type": "display_data"
    },
    {
     "name": "stdout",
     "output_type": "stream",
     "text": [
      "income = \t\t 0.127403818066\n",
      "volatility = \t\t 0.048988403485\n",
      "risk =   \t\t 0.000284190549023\n",
      "------------------------\n",
      "CPU times: user 4min 21s, sys: 3.99 s, total: 4min 25s\n",
      "Wall time: 4min 43s\n"
     ]
    }
   ],
   "source": [
    "%%time\n",
    "#поехали\n",
    "vol_penalty = 0\n",
    "risk_penalty = 1\n",
    "\n",
    "weights, func = find_best_wghts(total, vol_penalty, risk_penalty)\n",
    "report(np.round(weights,2), total, names, vol_penalty, risk_penalty) "
   ]
  },
  {
   "cell_type": "markdown",
   "metadata": {},
   "source": [
    "Отменим штрафы за волатильности и риск совсем.\n",
    "Как и ожидалось - модель оставляет в портфеле всего один продукт - ПИФ компаний малой капитализации."
   ]
  },
  {
   "cell_type": "code",
   "execution_count": 7,
   "metadata": {
    "collapsed": false
   },
   "outputs": [
    {
     "name": "stdout",
     "output_type": "stream",
     "text": [
      "1.0 \t\t ПИФ \"Компании малой капитализации\"\n"
     ]
    },
    {
     "data": {
      "image/png": "[encoded data removed]",
      "text/plain": [
       "<matplotlib.figure.Figure at 0x10966add8>"
      ]
     },
     "metadata": {},
     "output_type": "display_data"
    },
    {
     "name": "stdout",
     "output_type": "stream",
     "text": [
      "income = \t\t 0.139167310002\n",
      "volatility = \t\t 0.0580183052876\n",
      "risk =   \t\t 0.0135086537571\n",
      "------------------------\n",
      "CPU times: user 2min 38s, sys: 2.31 s, total: 2min 40s\n",
      "Wall time: 2min 41s\n"
     ]
    }
   ],
   "source": [
    "%%time\n",
    "#поехали\n",
    "vol_penalty = 0\n",
    "risk_penalty = 0\n",
    "\n",
    "weights, func = find_best_wghts(total, vol_penalty, risk_penalty)\n",
    "report(np.round(weights,2), total, names, vol_penalty, risk_penalty) "
   ]
  }
 ],
 "metadata": {
  "kernelspec": {
   "display_name": "Python 3",
   "language": "python",
   "name": "python3"
  },
  "language_info": {
   "codemirror_mode": {
    "name": "ipython",
    "version": 3
   },
   "file_extension": ".py",
   "mimetype": "text/x-python",
   "name": "python",
   "nbconvert_exporter": "python",
   "pygments_lexer": "ipython3",
   "version": "3.6.0"
  }
 },
 "nbformat": 4,
 "nbformat_minor": 2
}
