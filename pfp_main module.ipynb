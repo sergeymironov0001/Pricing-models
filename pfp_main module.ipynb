{
 "cells": [
  {
   "cell_type": "markdown",
   "metadata": {},
   "source": [
    "### Оптимизация портфеля"
   ]
  },
  {
   "cell_type": "markdown",
   "metadata": {},
   "source": [
    "Иницилизация, константы"
   ]
  },
  {
   "cell_type": "code",
   "execution_count": 1,
   "metadata": {
    "collapsed": false
   },
   "outputs": [],
   "source": [
    "from pfp_products import *\n",
    "from pfp_optimization import *\n",
    "from pfp_stat import *\n",
    "import numpy as np\n",
    "import pandas as pd \n",
    "\n",
    "# set constants & assumbtions\n",
    "\n",
    "n_scenarios = 1000\n",
    "simulation_years = 10         # срок моделирования инструментов - 10 лет\n",
    "client_term = 10              # срок портфеля - 10 лет\n",
    "points_in_year = 12           # 12 модельных точек в году"
   ]
  },
  {
   "cell_type": "markdown",
   "metadata": {},
   "source": [
    "Моделируем базовые активы и продукты.\n",
    "Сейчас этот модуль выводит статистики по моделируемым инструментам: средние, волатильности и корреляции. Все в масштабе года."
   ]
  },
  {
   "cell_type": "code",
   "execution_count": 2,
   "metadata": {
    "collapsed": false,
    "scrolled": false
   },
   "outputs": [
    {
     "name": "stdout",
     "output_type": "stream",
     "text": [
      "Means: \n",
      "BAYN GY Equity       0.051034\n",
      "PIMGCIA ID equity    0.031510\n",
      "MCD us equity        0.097899\n",
      "TRDILMS RU EQUITY    0.065819\n",
      "XLP us equity        0.048813\n",
      "ADS GY equity        0.167868\n",
      "PFE UN Equity        0.045947\n",
      "DIS us equity        0.110666\n",
      "HEN3 GY equity       0.070517\n",
      "DAI GY equity        0.073006\n",
      "SAN FP Equity       -0.033702\n",
      "ROG SE Equity        0.005159\n",
      "DAL us equity        0.231161\n",
      "IXN us equity        0.168959\n",
      "SBER LI EQUITY       0.027361\n",
      "NOVN SE Equity       0.032227\n",
      "TRDPTNT RU EQUITY    0.102709\n",
      "TRDDRUZ RU EQUITY    0.108175\n",
      "dtype: float64\n",
      "Sigmas: \n",
      "BAYN GY Equity       0.031690\n",
      "PIMGCIA ID equity    0.004473\n",
      "MCD us equity        0.020697\n",
      "TRDILMS RU EQUITY    0.010403\n",
      "XLP us equity        0.014980\n",
      "ADS GY equity        0.035377\n",
      "PFE UN Equity        0.024172\n",
      "DIS us equity        0.025126\n",
      "HEN3 GY equity       0.026117\n",
      "DAI GY equity        0.034951\n",
      "SAN FP Equity        0.029694\n",
      "ROG SE Equity        0.025640\n",
      "DAL us equity        0.039583\n",
      "IXN us equity        0.019998\n",
      "SBER LI EQUITY       0.058693\n",
      "NOVN SE Equity       0.025714\n",
      "TRDPTNT RU EQUITY    0.021622\n",
      "TRDDRUZ RU EQUITY    0.014571\n",
      "dtype: float64\n",
      "Correlations: \n",
      "                   BAYN GY Equity  PIMGCIA ID equity  MCD us equity  \\\n",
      "BAYN GY Equity           1.000000           0.214013       0.322584   \n",
      "PIMGCIA ID equity        0.214013           1.000000       0.165336   \n",
      "MCD us equity            0.322584           0.165336       1.000000   \n",
      "TRDILMS RU EQUITY        0.029861           0.064781      -0.047544   \n",
      "XLP us equity            0.318703           0.412115       0.458049   \n",
      "ADS GY equity            0.326343           0.179030       0.258761   \n",
      "PFE UN Equity            0.314639           0.180320       0.254813   \n",
      "DIS us equity            0.360403           0.084735       0.290390   \n",
      "HEN3 GY equity           0.561531           0.324552       0.247590   \n",
      "DAI GY equity            0.599060           0.182933       0.247395   \n",
      "SAN FP Equity            0.510793           0.202919       0.242249   \n",
      "ROG SE Equity            0.436875           0.158012       0.227757   \n",
      "DAL us equity            0.177514           0.109645       0.163041   \n",
      "IXN us equity            0.498621           0.223756       0.429157   \n",
      "SBER LI EQUITY           0.200544           0.202521       0.156196   \n",
      "NOVN SE Equity           0.451177           0.182824       0.356205   \n",
      "TRDPTNT RU EQUITY        0.218028           0.119892      -0.013035   \n",
      "TRDDRUZ RU EQUITY        0.266558           0.143036       0.058550   \n",
      "\n",
      "                   TRDILMS RU EQUITY  XLP us equity  ADS GY equity  \\\n",
      "BAYN GY Equity              0.029861       0.318703       0.326343   \n",
      "PIMGCIA ID equity           0.064781       0.412115       0.179030   \n",
      "MCD us equity              -0.047544       0.458049       0.258761   \n",
      "TRDILMS RU EQUITY           1.000000      -0.017247       0.130628   \n",
      "XLP us equity              -0.017247       1.000000       0.310881   \n",
      "ADS GY equity               0.130628       0.310881       1.000000   \n",
      "PFE UN Equity              -0.010871       0.497762       0.227761   \n",
      "DIS us equity               0.008969       0.470198       0.204945   \n",
      "HEN3 GY equity              0.046949       0.372363       0.387600   \n",
      "DAI GY equity               0.046193       0.296033       0.408116   \n",
      "SAN FP Equity               0.064863       0.272386       0.235533   \n",
      "ROG SE Equity               0.082639       0.273817       0.232246   \n",
      "DAL us equity               0.002383       0.286709       0.120511   \n",
      "IXN us equity               0.008221       0.584428       0.392982   \n",
      "SBER LI EQUITY              0.229142       0.309873       0.284938   \n",
      "NOVN SE Equity              0.007083       0.327123       0.259881   \n",
      "TRDPTNT RU EQUITY           0.265858       0.072741       0.196150   \n",
      "TRDDRUZ RU EQUITY           0.352524       0.132177       0.256576   \n",
      "\n",
      "                   PFE UN Equity  DIS us equity  HEN3 GY equity  \\\n",
      "BAYN GY Equity          0.314639       0.360403        0.561531   \n",
      "PIMGCIA ID equity       0.180320       0.084735        0.324552   \n",
      "MCD us equity           0.254813       0.290390        0.247590   \n",
      "TRDILMS RU EQUITY      -0.010871       0.008969        0.046949   \n",
      "XLP us equity           0.497762       0.470198        0.372363   \n",
      "ADS GY equity           0.227761       0.204945        0.387600   \n",
      "PFE UN Equity           1.000000       0.419392        0.206832   \n",
      "DIS us equity           0.419392       1.000000        0.272284   \n",
      "HEN3 GY equity          0.206832       0.272284        1.000000   \n",
      "DAI GY equity           0.203218       0.367437        0.462623   \n",
      "SAN FP Equity           0.362723       0.286431        0.396047   \n",
      "ROG SE Equity           0.363315       0.321776        0.367000   \n",
      "DAL us equity           0.215589       0.322090        0.127764   \n",
      "IXN us equity           0.442162       0.562918        0.401710   \n",
      "SBER LI EQUITY          0.162708       0.361679        0.291666   \n",
      "NOVN SE Equity          0.469745       0.355586        0.373321   \n",
      "TRDPTNT RU EQUITY       0.143152       0.155380        0.243768   \n",
      "TRDDRUZ RU EQUITY       0.115215       0.203569        0.279104   \n",
      "\n",
      "                   DAI GY equity  SAN FP Equity  ROG SE Equity  DAL us equity  \\\n",
      "BAYN GY Equity          0.599060       0.510793       0.436875       0.177514   \n",
      "PIMGCIA ID equity       0.182933       0.202919       0.158012       0.109645   \n",
      "MCD us equity           0.247395       0.242249       0.227757       0.163041   \n",
      "TRDILMS RU EQUITY       0.046193       0.064863       0.082639       0.002383   \n",
      "XLP us equity           0.296033       0.272386       0.273817       0.286709   \n",
      "ADS GY equity           0.408116       0.235533       0.232246       0.120511   \n",
      "PFE UN Equity           0.203218       0.362723       0.363315       0.215589   \n",
      "DIS us equity           0.367437       0.286431       0.321776       0.322090   \n",
      "HEN3 GY equity          0.462623       0.396047       0.367000       0.127764   \n",
      "DAI GY equity           1.000000       0.398954       0.322081       0.315473   \n",
      "SAN FP Equity           0.398954       1.000000       0.473540       0.245934   \n",
      "ROG SE Equity           0.322081       0.473540       1.000000       0.271482   \n",
      "DAL us equity           0.315473       0.245934       0.271482       1.000000   \n",
      "IXN us equity           0.551861       0.413405       0.445722       0.432600   \n",
      "SBER LI EQUITY          0.333428       0.205864       0.288247       0.129208   \n",
      "NOVN SE Equity          0.355492       0.478164       0.678681       0.226956   \n",
      "TRDPTNT RU EQUITY       0.335017       0.182546       0.139533       0.187078   \n",
      "TRDDRUZ RU EQUITY       0.353715       0.215911       0.179435       0.131082   \n",
      "\n",
      "                   IXN us equity  SBER LI EQUITY  NOVN SE Equity  \\\n",
      "BAYN GY Equity          0.498621        0.200544        0.451177   \n",
      "PIMGCIA ID equity       0.223756        0.202521        0.182824   \n",
      "MCD us equity           0.429157        0.156196        0.356205   \n",
      "TRDILMS RU EQUITY       0.008221        0.229142        0.007083   \n",
      "XLP us equity           0.584428        0.309873        0.327123   \n",
      "ADS GY equity           0.392982        0.284938        0.259881   \n",
      "PFE UN Equity           0.442162        0.162708        0.469745   \n",
      "DIS us equity           0.562918        0.361679        0.355586   \n",
      "HEN3 GY equity          0.401710        0.291666        0.373321   \n",
      "DAI GY equity           0.551861        0.333428        0.355492   \n",
      "SAN FP Equity           0.413405        0.205864        0.478164   \n",
      "ROG SE Equity           0.445722        0.288247        0.678681   \n",
      "DAL us equity           0.432600        0.129208        0.226956   \n",
      "IXN us equity           1.000000        0.396739        0.509762   \n",
      "SBER LI EQUITY          0.396739        1.000000        0.250700   \n",
      "NOVN SE Equity          0.509762        0.250700        1.000000   \n",
      "TRDPTNT RU EQUITY       0.310661        0.408694        0.151422   \n",
      "TRDDRUZ RU EQUITY       0.328184        0.666880        0.197387   \n",
      "\n",
      "                   TRDPTNT RU EQUITY  TRDDRUZ RU EQUITY  \n",
      "BAYN GY Equity              0.218028           0.266558  \n",
      "PIMGCIA ID equity           0.119892           0.143036  \n",
      "MCD us equity              -0.013035           0.058550  \n",
      "TRDILMS RU EQUITY           0.265858           0.352524  \n",
      "XLP us equity               0.072741           0.132177  \n",
      "ADS GY equity               0.196150           0.256576  \n",
      "PFE UN Equity               0.143152           0.115215  \n",
      "DIS us equity               0.155380           0.203569  \n",
      "HEN3 GY equity              0.243768           0.279104  \n",
      "DAI GY equity               0.335017           0.353715  \n",
      "SAN FP Equity               0.182546           0.215911  \n",
      "ROG SE Equity               0.139533           0.179435  \n",
      "DAL us equity               0.187078           0.131082  \n",
      "IXN us equity               0.310661           0.328184  \n",
      "SBER LI EQUITY              0.408694           0.666880  \n",
      "NOVN SE Equity              0.151422           0.197387  \n",
      "TRDPTNT RU EQUITY           1.000000           0.805551  \n",
      "TRDDRUZ RU EQUITY           0.805551           1.000000  \n"
     ]
    }
   ],
   "source": [
    "# базовые активы\n",
    "BAs = read_prodcat('prodcat.xlsx')[2]\n",
    "prices = ba_scenarios(BAs, simulation_years, points_in_year, n_scenarios)\n",
    "\n",
    "# продукты\n",
    "total, names = calc_products2(prices, simulation_years, points_in_year, client_term)"
   ]
  },
  {
   "cell_type": "markdown",
   "metadata": {},
   "source": [
    "Строим распределение доходностей, считаем среднюю доходность, волатильности фин результата и риск (средние потери) по всем продуктам, участвующим в расчете."
   ]
  },
  {
   "cell_type": "code",
   "execution_count": 3,
   "metadata": {
    "collapsed": false,
    "scrolled": false
   },
   "outputs": [
    {
     "name": "stdout",
     "output_type": "stream",
     "text": [
      "1.0 \t\t ИСЖ ГФО\n"
     ]
    },
    {
     "data": {
      "image/png": "[encoded data removed]",
      "text/plain": [
       "<matplotlib.figure.Figure at 0x119d33c88>"
      ]
     },
     "metadata": {},
     "output_type": "display_data"
    },
    {
     "name": "stdout",
     "output_type": "stream",
     "text": [
      "income = \t\t 0.0549030292356\n",
      "volatility = \t\t 0.019842443121\n",
      "risk =   \t\t 0\n",
      "------------------------\n",
      "1.0 \t\t ИСЖ новые технологии\n"
     ]
    },
    {
     "data": {
      "image/png": "[encoded data removed]",
      "text/plain": [
       "<matplotlib.figure.Figure at 0x116352400>"
      ]
     },
     "metadata": {},
     "output_type": "display_data"
    },
    {
     "name": "stdout",
     "output_type": "stream",
     "text": [
      "income = \t\t 0.0525384477275\n",
      "volatility = \t\t 0.0254168704217\n",
      "risk =   \t\t 0\n",
      "------------------------\n",
      "1.0 \t\t ИСЖ потребительские товары\n"
     ]
    },
    {
     "data": {
      "image/png": "[encoded data removed]",
      "text/plain": [
       "<matplotlib.figure.Figure at 0x116352940>"
      ]
     },
     "metadata": {},
     "output_type": "display_data"
    },
    {
     "name": "stdout",
     "output_type": "stream",
     "text": [
      "income = \t\t 0.0635197196414\n",
      "volatility = \t\t 0.0562051314717\n",
      "risk =   \t\t 0\n",
      "------------------------\n",
      "1.0 \t\t ИСЖ MCD DAL DIS\n"
     ]
    },
    {
     "data": {
      "image/png": "[encoded data removed]",
      "text/plain": [
       "<matplotlib.figure.Figure at 0x116362f28>"
      ]
     },
     "metadata": {},
     "output_type": "display_data"
    },
    {
     "name": "stdout",
     "output_type": "stream",
     "text": [
      "income = \t\t 0.0244975385946\n",
      "volatility = \t\t 0.018187202589\n",
      "risk =   \t\t 0\n",
      "------------------------\n",
      "1.0 \t\t ИСЖ дойче купон\n"
     ]
    },
    {
     "data": {
      "image/png": "[encoded data removed]",
      "text/plain": [
       "<matplotlib.figure.Figure at 0x11cfd6400>"
      ]
     },
     "metadata": {},
     "output_type": "display_data"
    },
    {
     "name": "stdout",
     "output_type": "stream",
     "text": [
      "income = \t\t 0.0411830069315\n",
      "volatility = \t\t 0.0245092545398\n",
      "risk =   \t\t 0\n",
      "------------------------\n",
      "1.0 \t\t ИСЖ 4 фармы\n"
     ]
    },
    {
     "data": {
      "image/png": "[encoded data removed]",
      "text/plain": [
       "<matplotlib.figure.Figure at 0x116622668>"
      ]
     },
     "metadata": {},
     "output_type": "display_data"
    },
    {
     "name": "stdout",
     "output_type": "stream",
     "text": [
      "income = \t\t 0.0195922807581\n",
      "volatility = \t\t 0.0247784207234\n",
      "risk =   \t\t 0\n",
      "------------------------\n",
      "1.0 \t\t ИСЖ 4+1 фармы\n"
     ]
    },
    {
     "data": {
      "image/png": "[encoded data removed]",
      "text/plain": [
       "<matplotlib.figure.Figure at 0x1164d9f28>"
      ]
     },
     "metadata": {},
     "output_type": "display_data"
    },
    {
     "name": "stdout",
     "output_type": "stream",
     "text": [
      "income = \t\t 0.0177431218384\n",
      "volatility = \t\t 0.0241472994337\n",
      "risk =   \t\t 0\n",
      "------------------------\n",
      "1.0 \t\t Callable note MCD\n"
     ]
    },
    {
     "data": {
      "image/png": "[encoded data removed]",
      "text/plain": [
       "<matplotlib.figure.Figure at 0x11cfb19b0>"
      ]
     },
     "metadata": {},
     "output_type": "display_data"
    },
    {
     "name": "stdout",
     "output_type": "stream",
     "text": [
      "income = \t\t 0.141177033599\n",
      "volatility = \t\t 0.0438536723431\n",
      "risk =   \t\t 0.209237103033\n",
      "------------------------\n",
      "1.0 \t\t Депозит 1\n"
     ]
    },
    {
     "data": {
      "image/png": "[encoded data removed]",
      "text/plain": [
       "<matplotlib.figure.Figure at 0x116648f98>"
      ]
     },
     "metadata": {},
     "output_type": "display_data"
    },
    {
     "name": "stdout",
     "output_type": "stream",
     "text": [
      "income = \t\t 0.01\n",
      "volatility = \t\t 0\n",
      "risk =   \t\t 0\n",
      "------------------------\n",
      "1.0 \t\t Депозит 2\n"
     ]
    },
    {
     "data": {
      "image/png": "[encoded data removed]",
      "text/plain": [
       "<matplotlib.figure.Figure at 0x1164d97f0>"
      ]
     },
     "metadata": {},
     "output_type": "display_data"
    },
    {
     "name": "stdout",
     "output_type": "stream",
     "text": [
      "income = \t\t 0.00601652753096\n",
      "volatility = \t\t 0\n",
      "risk =   \t\t 0\n",
      "------------------------\n",
      "1.0 \t\t ПИФ \"Илья Муромец\"\n"
     ]
    },
    {
     "data": {
      "image/png": "[encoded data removed]",
      "text/plain": [
       "<matplotlib.figure.Figure at 0x11d8f8198>"
      ]
     },
     "metadata": {},
     "output_type": "display_data"
    },
    {
     "name": "stdout",
     "output_type": "stream",
     "text": [
      "income = \t\t 0.0692586142554\n",
      "volatility = \t\t 0.0246122588204\n",
      "risk =   \t\t 0.00502754073089\n",
      "------------------------\n",
      "1.0 \t\t ПИФ \"Компании малой капитализации\"\n"
     ]
    },
    {
     "data": {
      "image/png": "[encoded data removed]",
      "text/plain": [
       "<matplotlib.figure.Figure at 0x1165ecc50>"
      ]
     },
     "metadata": {},
     "output_type": "display_data"
    },
    {
     "name": "stdout",
     "output_type": "stream",
     "text": [
      "income = \t\t 0.139358270583\n",
      "volatility = \t\t 0.0557867940468\n",
      "risk =   \t\t 0.008372174014\n",
      "------------------------\n",
      "1.0 \t\t ПИФ \"Сбалансированный\"\n"
     ]
    },
    {
     "data": {
      "image/png": "[encoded data removed]",
      "text/plain": [
       "<matplotlib.figure.Figure at 0x1165b9a58>"
      ]
     },
     "metadata": {},
     "output_type": "display_data"
    },
    {
     "name": "stdout",
     "output_type": "stream",
     "text": [
      "income = \t\t 0.11565002611\n",
      "volatility = \t\t 0.0367687826845\n",
      "risk =   \t\t 0\n",
      "------------------------\n",
      "1.0 \t\t БСО АДР Сбербанка\n"
     ]
    },
    {
     "data": {
      "image/png": "[encoded data removed]",
      "text/plain": [
       "<matplotlib.figure.Figure at 0x1165ecf60>"
      ]
     },
     "metadata": {},
     "output_type": "display_data"
    },
    {
     "name": "stdout",
     "output_type": "stream",
     "text": [
      "income = \t\t 0.0931888985982\n",
      "volatility = \t\t 0.135267246891\n",
      "risk =   \t\t 0\n",
      "------------------------\n"
     ]
    }
   ],
   "source": [
    "%matplotlib inline\n",
    "\n",
    "# на какие продукты смотрим?\n",
    "for i in range(0,len(names)):\n",
    "    weights = np.zeros(len(names))\n",
    "    weights[i] = 1\n",
    "    report(weights, total, names)"
   ]
  },
  {
   "cell_type": "markdown",
   "metadata": {},
   "source": [
    "#### Теперь будем оптимизировать.\n",
    "Сначала будем штрафровать функицю полезности за уровень риска портфеля и уровень волатильности финансового результата.\n",
    "Если штрафовать строго - останется только депозит, в котором нет ни риска, ни волатильности:"
   ]
  },
  {
   "cell_type": "code",
   "execution_count": 4,
   "metadata": {
    "collapsed": false,
    "scrolled": false
   },
   "outputs": [
    {
     "name": "stdout",
     "output_type": "stream",
     "text": [
      "1.0 \t\t Депозит 1\n"
     ]
    },
    {
     "data": {
      "image/png": "[encoded data removed]",
      "text/plain": [
       "<matplotlib.figure.Figure at 0x10e3afba8>"
      ]
     },
     "metadata": {},
     "output_type": "display_data"
    },
    {
     "name": "stdout",
     "output_type": "stream",
     "text": [
      "income = \t\t 0.01\n",
      "volatility = \t\t 0\n",
      "risk =   \t\t 0\n",
      "------------------------\n",
      "CPU times: user 5min 25s, sys: 6.17 s, total: 5min 31s\n",
      "Wall time: 9min 41s\n"
     ]
    }
   ],
   "source": [
    "%%time\n",
    "\n",
    "#поехали\n",
    "vol_penalty = 1\n",
    "risk_penalty = 1\n",
    "\n",
    "weights, func = find_best_wghts(total, vol_penalty, risk_penalty)\n",
    "report(np.round(weights,2), total, names, vol_penalty, risk_penalty) "
   ]
  },
  {
   "cell_type": "markdown",
   "metadata": {},
   "source": [
    "Попробуем уменьшить штраф за волатильность. Видно, что теперь в портфель попало больше инструментов, причем основную долю забрали ГФО (43%), Новые технологии (25%) и ПИФ Илья Муромец (21%)."
   ]
  },
  {
   "cell_type": "code",
   "execution_count": 5,
   "metadata": {
    "collapsed": false
   },
   "outputs": [
    {
     "name": "stdout",
     "output_type": "stream",
     "text": [
      "0.43 \t\t ИСЖ ГФО\n",
      "0.25 \t\t ИСЖ новые технологии\n",
      "0.01 \t\t ИСЖ потребительские товары\n",
      "0.02 \t\t ИСЖ дойче купон\n",
      "0.21 \t\t ПИФ \"Илья Муромец\"\n",
      "0.08 \t\t ПИФ \"Сбалансированный\"\n"
     ]
    },
    {
     "data": {
      "image/png": "[encoded data removed]",
      "text/plain": [
       "<matplotlib.figure.Figure at 0x116874a58>"
      ]
     },
     "metadata": {},
     "output_type": "display_data"
    },
    {
     "name": "stdout",
     "output_type": "stream",
     "text": [
      "income = \t\t 0.0680854368094\n",
      "volatility = \t\t 0.0151286565307\n",
      "risk =   \t\t 0\n",
      "------------------------\n",
      "CPU times: user 6min 2s, sys: 6.89 s, total: 6min 9s\n",
      "Wall time: 40min 9s\n"
     ]
    }
   ],
   "source": [
    "%%time\n",
    "#поехали\n",
    "vol_penalty = 0.5\n",
    "risk_penalty = 1\n",
    "\n",
    "weights, func = find_best_wghts(total, vol_penalty, risk_penalty)\n",
    "report(np.round(weights,2), total, names, vol_penalty, risk_penalty) "
   ]
  },
  {
   "cell_type": "markdown",
   "metadata": {},
   "source": [
    "Уберем штраф за волатильность совсем. \n",
    "Теперь модель старательно минимизирует риск, но на волатильность доходности не обращет внимания. И максимизирует среднюю доходность.\n",
    "\n",
    "Баланс в портфеле изменился. \n",
    "Теперь ГФО 18%, ПИФ Сбалансированный - 14%, а БСО на АДР Сбера - 67%!"
   ]
  },
  {
   "cell_type": "code",
   "execution_count": 6,
   "metadata": {
    "collapsed": false,
    "scrolled": false
   },
   "outputs": [
    {
     "ename": "KeyboardInterrupt",
     "evalue": "",
     "output_type": "error",
     "traceback": [
      "\u001b[0;31m---------------------------------------------------------------------------\u001b[0m",
      "\u001b[0;31mKeyboardInterrupt\u001b[0m                         Traceback (most recent call last)",
      "\u001b[0;32m<ipython-input-6-3cf9a50a301a>\u001b[0m in \u001b[0;36m<module>\u001b[0;34m()\u001b[0m\n\u001b[0;32m----> 1\u001b[0;31m \u001b[0mget_ipython\u001b[0m\u001b[0;34m(\u001b[0m\u001b[0;34m)\u001b[0m\u001b[0;34m.\u001b[0m\u001b[0mrun_cell_magic\u001b[0m\u001b[0;34m(\u001b[0m\u001b[0;34m'time'\u001b[0m\u001b[0;34m,\u001b[0m \u001b[0;34m''\u001b[0m\u001b[0;34m,\u001b[0m \u001b[0;34m'#поехали\\nvol_penalty = 0\\nrisk_penalty = 1\\n\\nweights, func = find_best_wghts(total, vol_penalty, risk_penalty)\\nreport(np.round(weights,2), total, names, vol_penalty, risk_penalty) '\u001b[0m\u001b[0;34m)\u001b[0m\u001b[0;34m\u001b[0m\u001b[0m\n\u001b[0m",
      "\u001b[0;32m/Users/kozh/anaconda/lib/python3.6/site-packages/IPython/core/interactiveshell.py\u001b[0m in \u001b[0;36mrun_cell_magic\u001b[0;34m(self, magic_name, line, cell)\u001b[0m\n\u001b[1;32m   2113\u001b[0m             \u001b[0mmagic_arg_s\u001b[0m \u001b[0;34m=\u001b[0m \u001b[0mself\u001b[0m\u001b[0;34m.\u001b[0m\u001b[0mvar_expand\u001b[0m\u001b[0;34m(\u001b[0m\u001b[0mline\u001b[0m\u001b[0;34m,\u001b[0m \u001b[0mstack_depth\u001b[0m\u001b[0;34m)\u001b[0m\u001b[0;34m\u001b[0m\u001b[0m\n\u001b[1;32m   2114\u001b[0m             \u001b[0;32mwith\u001b[0m \u001b[0mself\u001b[0m\u001b[0;34m.\u001b[0m\u001b[0mbuiltin_trap\u001b[0m\u001b[0;34m:\u001b[0m\u001b[0;34m\u001b[0m\u001b[0m\n\u001b[0;32m-> 2115\u001b[0;31m                 \u001b[0mresult\u001b[0m \u001b[0;34m=\u001b[0m \u001b[0mfn\u001b[0m\u001b[0;34m(\u001b[0m\u001b[0mmagic_arg_s\u001b[0m\u001b[0;34m,\u001b[0m \u001b[0mcell\u001b[0m\u001b[0;34m)\u001b[0m\u001b[0;34m\u001b[0m\u001b[0m\n\u001b[0m\u001b[1;32m   2116\u001b[0m             \u001b[0;32mreturn\u001b[0m \u001b[0mresult\u001b[0m\u001b[0;34m\u001b[0m\u001b[0m\n\u001b[1;32m   2117\u001b[0m \u001b[0;34m\u001b[0m\u001b[0m\n",
      "\u001b[0;32m<decorator-gen-59>\u001b[0m in \u001b[0;36mtime\u001b[0;34m(self, line, cell, local_ns)\u001b[0m\n",
      "\u001b[0;32m/Users/kozh/anaconda/lib/python3.6/site-packages/IPython/core/magic.py\u001b[0m in \u001b[0;36m<lambda>\u001b[0;34m(f, *a, **k)\u001b[0m\n\u001b[1;32m    186\u001b[0m     \u001b[0;31m# but it's overkill for just that one bit of state.\u001b[0m\u001b[0;34m\u001b[0m\u001b[0;34m\u001b[0m\u001b[0m\n\u001b[1;32m    187\u001b[0m     \u001b[0;32mdef\u001b[0m \u001b[0mmagic_deco\u001b[0m\u001b[0;34m(\u001b[0m\u001b[0marg\u001b[0m\u001b[0;34m)\u001b[0m\u001b[0;34m:\u001b[0m\u001b[0;34m\u001b[0m\u001b[0m\n\u001b[0;32m--> 188\u001b[0;31m         \u001b[0mcall\u001b[0m \u001b[0;34m=\u001b[0m \u001b[0;32mlambda\u001b[0m \u001b[0mf\u001b[0m\u001b[0;34m,\u001b[0m \u001b[0;34m*\u001b[0m\u001b[0ma\u001b[0m\u001b[0;34m,\u001b[0m \u001b[0;34m**\u001b[0m\u001b[0mk\u001b[0m\u001b[0;34m:\u001b[0m \u001b[0mf\u001b[0m\u001b[0;34m(\u001b[0m\u001b[0;34m*\u001b[0m\u001b[0ma\u001b[0m\u001b[0;34m,\u001b[0m \u001b[0;34m**\u001b[0m\u001b[0mk\u001b[0m\u001b[0;34m)\u001b[0m\u001b[0;34m\u001b[0m\u001b[0m\n\u001b[0m\u001b[1;32m    189\u001b[0m \u001b[0;34m\u001b[0m\u001b[0m\n\u001b[1;32m    190\u001b[0m         \u001b[0;32mif\u001b[0m \u001b[0mcallable\u001b[0m\u001b[0;34m(\u001b[0m\u001b[0marg\u001b[0m\u001b[0;34m)\u001b[0m\u001b[0;34m:\u001b[0m\u001b[0;34m\u001b[0m\u001b[0m\n",
      "\u001b[0;32m/Users/kozh/anaconda/lib/python3.6/site-packages/IPython/core/magics/execution.py\u001b[0m in \u001b[0;36mtime\u001b[0;34m(self, line, cell, local_ns)\u001b[0m\n\u001b[1;32m   1178\u001b[0m         \u001b[0;32melse\u001b[0m\u001b[0;34m:\u001b[0m\u001b[0;34m\u001b[0m\u001b[0m\n\u001b[1;32m   1179\u001b[0m             \u001b[0mst\u001b[0m \u001b[0;34m=\u001b[0m \u001b[0mclock2\u001b[0m\u001b[0;34m(\u001b[0m\u001b[0;34m)\u001b[0m\u001b[0;34m\u001b[0m\u001b[0m\n\u001b[0;32m-> 1180\u001b[0;31m             \u001b[0mexec\u001b[0m\u001b[0;34m(\u001b[0m\u001b[0mcode\u001b[0m\u001b[0;34m,\u001b[0m \u001b[0mglob\u001b[0m\u001b[0;34m,\u001b[0m \u001b[0mlocal_ns\u001b[0m\u001b[0;34m)\u001b[0m\u001b[0;34m\u001b[0m\u001b[0m\n\u001b[0m\u001b[1;32m   1181\u001b[0m             \u001b[0mend\u001b[0m \u001b[0;34m=\u001b[0m \u001b[0mclock2\u001b[0m\u001b[0;34m(\u001b[0m\u001b[0;34m)\u001b[0m\u001b[0;34m\u001b[0m\u001b[0m\n\u001b[1;32m   1182\u001b[0m             \u001b[0mout\u001b[0m \u001b[0;34m=\u001b[0m \u001b[0;32mNone\u001b[0m\u001b[0;34m\u001b[0m\u001b[0m\n",
      "\u001b[0;32m<timed exec>\u001b[0m in \u001b[0;36m<module>\u001b[0;34m()\u001b[0m\n",
      "\u001b[0;32m/Users/kozh/Google Drive/Projects/Pricing models - GitHub/pfp_optimization.py\u001b[0m in \u001b[0;36mfind_best_wghts\u001b[0;34m(total, vol_penalty, risk_penalty)\u001b[0m\n\u001b[1;32m     53\u001b[0m \u001b[0;34m\u001b[0m\u001b[0m\n\u001b[1;32m     54\u001b[0m     \u001b[0;32mfor\u001b[0m \u001b[0mweights\u001b[0m \u001b[0;32min\u001b[0m \u001b[0mww\u001b[0m\u001b[0;34m:\u001b[0m\u001b[0;34m\u001b[0m\u001b[0m\n\u001b[0;32m---> 55\u001b[0;31m         \u001b[0mres\u001b[0m \u001b[0;34m=\u001b[0m \u001b[0mminimize\u001b[0m\u001b[0;34m(\u001b[0m\u001b[0mutility\u001b[0m\u001b[0;34m,\u001b[0m \u001b[0mweights\u001b[0m\u001b[0;34m,\u001b[0m \u001b[0margs\u001b[0m \u001b[0;34m=\u001b[0m \u001b[0;34m(\u001b[0m\u001b[0mtotal\u001b[0m\u001b[0;34m,\u001b[0m\u001b[0;36m0\u001b[0m\u001b[0;34m,\u001b[0m \u001b[0mvol_penalty\u001b[0m\u001b[0;34m,\u001b[0m \u001b[0mrisk_penalty\u001b[0m\u001b[0;34m)\u001b[0m\u001b[0;34m,\u001b[0m \u001b[0mmethod\u001b[0m\u001b[0;34m=\u001b[0m\u001b[0;34m'SLSQP'\u001b[0m\u001b[0;34m,\u001b[0m \u001b[0mbounds\u001b[0m\u001b[0;34m=\u001b[0m\u001b[0mbnds\u001b[0m\u001b[0;34m,\u001b[0m \u001b[0mconstraints\u001b[0m\u001b[0;34m=\u001b[0m\u001b[0mcons\u001b[0m\u001b[0;34m,\u001b[0m \u001b[0moptions\u001b[0m\u001b[0;34m=\u001b[0m\u001b[0;34m{\u001b[0m\u001b[0;34m'disp'\u001b[0m\u001b[0;34m:\u001b[0m \u001b[0;32mFalse\u001b[0m\u001b[0;34m}\u001b[0m\u001b[0;34m,\u001b[0m \u001b[0mtol\u001b[0m \u001b[0;34m=\u001b[0m \u001b[0;36m0.1\u001b[0m\u001b[0;34m)\u001b[0m\u001b[0;34m\u001b[0m\u001b[0m\n\u001b[0m\u001b[1;32m     56\u001b[0m         \u001b[0;32mif\u001b[0m \u001b[0mres\u001b[0m\u001b[0;34m.\u001b[0m\u001b[0mfun\u001b[0m \u001b[0;34m<\u001b[0m \u001b[0mfunc\u001b[0m\u001b[0;34m:\u001b[0m\u001b[0;34m\u001b[0m\u001b[0m\n\u001b[1;32m     57\u001b[0m             \u001b[0mfunc\u001b[0m \u001b[0;34m=\u001b[0m \u001b[0mres\u001b[0m\u001b[0;34m.\u001b[0m\u001b[0mfun\u001b[0m\u001b[0;34m\u001b[0m\u001b[0m\n",
      "\u001b[0;32m/Users/kozh/anaconda/lib/python3.6/site-packages/scipy/optimize/_minimize.py\u001b[0m in \u001b[0;36mminimize\u001b[0;34m(fun, x0, args, method, jac, hess, hessp, bounds, constraints, tol, callback, options)\u001b[0m\n\u001b[1;32m    456\u001b[0m     \u001b[0;32melif\u001b[0m \u001b[0mmeth\u001b[0m \u001b[0;34m==\u001b[0m \u001b[0;34m'slsqp'\u001b[0m\u001b[0;34m:\u001b[0m\u001b[0;34m\u001b[0m\u001b[0m\n\u001b[1;32m    457\u001b[0m         return _minimize_slsqp(fun, x0, args, jac, bounds,\n\u001b[0;32m--> 458\u001b[0;31m                                constraints, callback=callback, **options)\n\u001b[0m\u001b[1;32m    459\u001b[0m     \u001b[0;32melif\u001b[0m \u001b[0mmeth\u001b[0m \u001b[0;34m==\u001b[0m \u001b[0;34m'dogleg'\u001b[0m\u001b[0;34m:\u001b[0m\u001b[0;34m\u001b[0m\u001b[0m\n\u001b[1;32m    460\u001b[0m         return _minimize_dogleg(fun, x0, args, jac, hess,\n",
      "\u001b[0;32m/Users/kozh/anaconda/lib/python3.6/site-packages/scipy/optimize/slsqp.py\u001b[0m in \u001b[0;36m_minimize_slsqp\u001b[0;34m(func, x0, args, jac, bounds, constraints, maxiter, ftol, iprint, disp, eps, callback, **unknown_options)\u001b[0m\n\u001b[1;32m    388\u001b[0m             \u001b[0;31m# Compute the derivatives of the objective function\u001b[0m\u001b[0;34m\u001b[0m\u001b[0;34m\u001b[0m\u001b[0m\n\u001b[1;32m    389\u001b[0m             \u001b[0;31m# For some reason SLSQP wants g dimensioned to n+1\u001b[0m\u001b[0;34m\u001b[0m\u001b[0;34m\u001b[0m\u001b[0m\n\u001b[0;32m--> 390\u001b[0;31m             \u001b[0mg\u001b[0m \u001b[0;34m=\u001b[0m \u001b[0mappend\u001b[0m\u001b[0;34m(\u001b[0m\u001b[0mfprime\u001b[0m\u001b[0;34m(\u001b[0m\u001b[0mx\u001b[0m\u001b[0;34m)\u001b[0m\u001b[0;34m,\u001b[0m\u001b[0;36m0.0\u001b[0m\u001b[0;34m)\u001b[0m\u001b[0;34m\u001b[0m\u001b[0m\n\u001b[0m\u001b[1;32m    391\u001b[0m \u001b[0;34m\u001b[0m\u001b[0m\n\u001b[1;32m    392\u001b[0m             \u001b[0;31m# Compute the normals of the constraints\u001b[0m\u001b[0;34m\u001b[0m\u001b[0;34m\u001b[0m\u001b[0m\n",
      "\u001b[0;32m/Users/kozh/anaconda/lib/python3.6/site-packages/scipy/optimize/optimize.py\u001b[0m in \u001b[0;36mfunction_wrapper\u001b[0;34m(*wrapper_args)\u001b[0m\n\u001b[1;32m    290\u001b[0m     \u001b[0;32mdef\u001b[0m \u001b[0mfunction_wrapper\u001b[0m\u001b[0;34m(\u001b[0m\u001b[0;34m*\u001b[0m\u001b[0mwrapper_args\u001b[0m\u001b[0;34m)\u001b[0m\u001b[0;34m:\u001b[0m\u001b[0;34m\u001b[0m\u001b[0m\n\u001b[1;32m    291\u001b[0m         \u001b[0mncalls\u001b[0m\u001b[0;34m[\u001b[0m\u001b[0;36m0\u001b[0m\u001b[0;34m]\u001b[0m \u001b[0;34m+=\u001b[0m \u001b[0;36m1\u001b[0m\u001b[0;34m\u001b[0m\u001b[0m\n\u001b[0;32m--> 292\u001b[0;31m         \u001b[0;32mreturn\u001b[0m \u001b[0mfunction\u001b[0m\u001b[0;34m(\u001b[0m\u001b[0;34m*\u001b[0m\u001b[0;34m(\u001b[0m\u001b[0mwrapper_args\u001b[0m \u001b[0;34m+\u001b[0m \u001b[0margs\u001b[0m\u001b[0;34m)\u001b[0m\u001b[0;34m)\u001b[0m\u001b[0;34m\u001b[0m\u001b[0m\n\u001b[0m\u001b[1;32m    293\u001b[0m \u001b[0;34m\u001b[0m\u001b[0m\n\u001b[1;32m    294\u001b[0m     \u001b[0;32mreturn\u001b[0m \u001b[0mncalls\u001b[0m\u001b[0;34m,\u001b[0m \u001b[0mfunction_wrapper\u001b[0m\u001b[0;34m\u001b[0m\u001b[0m\n",
      "\u001b[0;32m/Users/kozh/anaconda/lib/python3.6/site-packages/scipy/optimize/slsqp.py\u001b[0m in \u001b[0;36mapprox_jacobian\u001b[0;34m(x, func, epsilon, *args)\u001b[0m\n\u001b[1;32m     61\u001b[0m     \u001b[0;32mfor\u001b[0m \u001b[0mi\u001b[0m \u001b[0;32min\u001b[0m \u001b[0mrange\u001b[0m\u001b[0;34m(\u001b[0m\u001b[0mlen\u001b[0m\u001b[0;34m(\u001b[0m\u001b[0mx0\u001b[0m\u001b[0;34m)\u001b[0m\u001b[0;34m)\u001b[0m\u001b[0;34m:\u001b[0m\u001b[0;34m\u001b[0m\u001b[0m\n\u001b[1;32m     62\u001b[0m         \u001b[0mdx\u001b[0m\u001b[0;34m[\u001b[0m\u001b[0mi\u001b[0m\u001b[0;34m]\u001b[0m \u001b[0;34m=\u001b[0m \u001b[0mepsilon\u001b[0m\u001b[0;34m\u001b[0m\u001b[0m\n\u001b[0;32m---> 63\u001b[0;31m         \u001b[0mjac\u001b[0m\u001b[0;34m[\u001b[0m\u001b[0mi\u001b[0m\u001b[0;34m]\u001b[0m \u001b[0;34m=\u001b[0m \u001b[0;34m(\u001b[0m\u001b[0mfunc\u001b[0m\u001b[0;34m(\u001b[0m\u001b[0;34m*\u001b[0m\u001b[0;34m(\u001b[0m\u001b[0;34m(\u001b[0m\u001b[0mx0\u001b[0m\u001b[0;34m+\u001b[0m\u001b[0mdx\u001b[0m\u001b[0;34m,\u001b[0m\u001b[0;34m)\u001b[0m\u001b[0;34m+\u001b[0m\u001b[0margs\u001b[0m\u001b[0;34m)\u001b[0m\u001b[0;34m)\u001b[0m \u001b[0;34m-\u001b[0m \u001b[0mf0\u001b[0m\u001b[0;34m)\u001b[0m\u001b[0;34m/\u001b[0m\u001b[0mepsilon\u001b[0m\u001b[0;34m\u001b[0m\u001b[0m\n\u001b[0m\u001b[1;32m     64\u001b[0m         \u001b[0mdx\u001b[0m\u001b[0;34m[\u001b[0m\u001b[0mi\u001b[0m\u001b[0;34m]\u001b[0m \u001b[0;34m=\u001b[0m \u001b[0;36m0.0\u001b[0m\u001b[0;34m\u001b[0m\u001b[0m\n\u001b[1;32m     65\u001b[0m \u001b[0;34m\u001b[0m\u001b[0m\n",
      "\u001b[0;32m/Users/kozh/anaconda/lib/python3.6/site-packages/scipy/optimize/optimize.py\u001b[0m in \u001b[0;36mfunction_wrapper\u001b[0;34m(*wrapper_args)\u001b[0m\n\u001b[1;32m    290\u001b[0m     \u001b[0;32mdef\u001b[0m \u001b[0mfunction_wrapper\u001b[0m\u001b[0;34m(\u001b[0m\u001b[0;34m*\u001b[0m\u001b[0mwrapper_args\u001b[0m\u001b[0;34m)\u001b[0m\u001b[0;34m:\u001b[0m\u001b[0;34m\u001b[0m\u001b[0m\n\u001b[1;32m    291\u001b[0m         \u001b[0mncalls\u001b[0m\u001b[0;34m[\u001b[0m\u001b[0;36m0\u001b[0m\u001b[0;34m]\u001b[0m \u001b[0;34m+=\u001b[0m \u001b[0;36m1\u001b[0m\u001b[0;34m\u001b[0m\u001b[0m\n\u001b[0;32m--> 292\u001b[0;31m         \u001b[0;32mreturn\u001b[0m \u001b[0mfunction\u001b[0m\u001b[0;34m(\u001b[0m\u001b[0;34m*\u001b[0m\u001b[0;34m(\u001b[0m\u001b[0mwrapper_args\u001b[0m \u001b[0;34m+\u001b[0m \u001b[0margs\u001b[0m\u001b[0;34m)\u001b[0m\u001b[0;34m)\u001b[0m\u001b[0;34m\u001b[0m\u001b[0m\n\u001b[0m\u001b[1;32m    293\u001b[0m \u001b[0;34m\u001b[0m\u001b[0m\n\u001b[1;32m    294\u001b[0m     \u001b[0;32mreturn\u001b[0m \u001b[0mncalls\u001b[0m\u001b[0;34m,\u001b[0m \u001b[0mfunction_wrapper\u001b[0m\u001b[0;34m\u001b[0m\u001b[0m\n",
      "\u001b[0;32m/Users/kozh/Google Drive/Projects/Pricing models - GitHub/pfp_optimization.py\u001b[0m in \u001b[0;36mutility\u001b[0;34m(weights, total, option, vol_penalty, risk_penalty)\u001b[0m\n\u001b[1;32m     65\u001b[0m \u001b[0;32mdef\u001b[0m \u001b[0mutility\u001b[0m\u001b[0;34m(\u001b[0m\u001b[0mweights\u001b[0m\u001b[0;34m,\u001b[0m \u001b[0mtotal\u001b[0m\u001b[0;34m,\u001b[0m \u001b[0moption\u001b[0m\u001b[0;34m=\u001b[0m\u001b[0;36m0\u001b[0m\u001b[0;34m,\u001b[0m \u001b[0mvol_penalty\u001b[0m \u001b[0;34m=\u001b[0m \u001b[0;36m1\u001b[0m\u001b[0;34m,\u001b[0m \u001b[0mrisk_penalty\u001b[0m \u001b[0;34m=\u001b[0m \u001b[0;36m1\u001b[0m\u001b[0;34m)\u001b[0m\u001b[0;34m:\u001b[0m\u001b[0;34m\u001b[0m\u001b[0m\n\u001b[1;32m     66\u001b[0m \u001b[0;34m\u001b[0m\u001b[0m\n\u001b[0;32m---> 67\u001b[0;31m     \u001b[0mr\u001b[0m \u001b[0;34m=\u001b[0m \u001b[0mnp\u001b[0m\u001b[0;34m.\u001b[0m\u001b[0mapply_along_axis\u001b[0m\u001b[0;34m(\u001b[0m\u001b[0mirr_newton\u001b[0m\u001b[0;34m,\u001b[0m \u001b[0;36m0\u001b[0m\u001b[0;34m,\u001b[0m \u001b[0mnp\u001b[0m\u001b[0;34m.\u001b[0m\u001b[0msum\u001b[0m\u001b[0;34m(\u001b[0m \u001b[0mtotal\u001b[0m\u001b[0;34m*\u001b[0m\u001b[0mweights\u001b[0m \u001b[0;34m,\u001b[0m\u001b[0maxis\u001b[0m \u001b[0;34m=\u001b[0m \u001b[0;36m2\u001b[0m\u001b[0;34m)\u001b[0m \u001b[0;34m)\u001b[0m\u001b[0;34m\u001b[0m\u001b[0m\n\u001b[0m\u001b[1;32m     68\u001b[0m     \u001b[0;31m#r = np.apply_along_axis(np.irr, 0, np.sum( total*weights ,axis = 2) )\u001b[0m\u001b[0;34m\u001b[0m\u001b[0;34m\u001b[0m\u001b[0m\n\u001b[1;32m     69\u001b[0m \u001b[0;34m\u001b[0m\u001b[0m\n",
      "\u001b[0;32m/Users/kozh/anaconda/lib/python3.6/site-packages/numpy/lib/shape_base.py\u001b[0m in \u001b[0;36mapply_along_axis\u001b[0;34m(func1d, axis, arr, *args, **kwargs)\u001b[0m\n\u001b[1;32m    137\u001b[0m     \u001b[0mbuff\u001b[0m\u001b[0;34m[\u001b[0m\u001b[0mind0\u001b[0m\u001b[0;34m]\u001b[0m \u001b[0;34m=\u001b[0m \u001b[0mres\u001b[0m\u001b[0;34m\u001b[0m\u001b[0m\n\u001b[1;32m    138\u001b[0m     \u001b[0;32mfor\u001b[0m \u001b[0mind\u001b[0m \u001b[0;32min\u001b[0m \u001b[0minds\u001b[0m\u001b[0;34m:\u001b[0m\u001b[0;34m\u001b[0m\u001b[0m\n\u001b[0;32m--> 139\u001b[0;31m         \u001b[0mbuff\u001b[0m\u001b[0;34m[\u001b[0m\u001b[0mind\u001b[0m\u001b[0;34m]\u001b[0m \u001b[0;34m=\u001b[0m \u001b[0masanyarray\u001b[0m\u001b[0;34m(\u001b[0m\u001b[0mfunc1d\u001b[0m\u001b[0;34m(\u001b[0m\u001b[0minarr_view\u001b[0m\u001b[0;34m[\u001b[0m\u001b[0mind\u001b[0m\u001b[0;34m]\u001b[0m\u001b[0;34m,\u001b[0m \u001b[0;34m*\u001b[0m\u001b[0margs\u001b[0m\u001b[0;34m,\u001b[0m \u001b[0;34m**\u001b[0m\u001b[0mkwargs\u001b[0m\u001b[0;34m)\u001b[0m\u001b[0;34m)\u001b[0m\u001b[0;34m\u001b[0m\u001b[0m\n\u001b[0m\u001b[1;32m    140\u001b[0m \u001b[0;34m\u001b[0m\u001b[0m\n\u001b[1;32m    141\u001b[0m     \u001b[0;32mif\u001b[0m \u001b[0;32mnot\u001b[0m \u001b[0misinstance\u001b[0m\u001b[0;34m(\u001b[0m\u001b[0mres\u001b[0m\u001b[0;34m,\u001b[0m \u001b[0mmatrix\u001b[0m\u001b[0;34m)\u001b[0m\u001b[0;34m:\u001b[0m\u001b[0;34m\u001b[0m\u001b[0m\n",
      "\u001b[0;32m/Users/kozh/Google Drive/Projects/Pricing models - GitHub/pfp_optimization.py\u001b[0m in \u001b[0;36mirr_newton\u001b[0;34m(stream, tol)\u001b[0m\n\u001b[1;32m     97\u001b[0m         \u001b[0;31m# Factor exp(m) out of the numerator & denominator for numerical stability\u001b[0m\u001b[0;34m\u001b[0m\u001b[0;34m\u001b[0m\u001b[0m\n\u001b[1;32m     98\u001b[0m         \u001b[0mm\u001b[0m \u001b[0;34m=\u001b[0m \u001b[0mmax\u001b[0m\u001b[0;34m(\u001b[0m\u001b[0;34m-\u001b[0m\u001b[0mrate\u001b[0m \u001b[0;34m*\u001b[0m \u001b[0mr\u001b[0m\u001b[0;34m)\u001b[0m\u001b[0;34m\u001b[0m\u001b[0m\n\u001b[0;32m---> 99\u001b[0;31m         \u001b[0mf\u001b[0m \u001b[0;34m=\u001b[0m \u001b[0mnp\u001b[0m\u001b[0;34m.\u001b[0m\u001b[0mexp\u001b[0m\u001b[0;34m(\u001b[0m\u001b[0;34m-\u001b[0m\u001b[0mrate\u001b[0m \u001b[0;34m*\u001b[0m \u001b[0mr\u001b[0m \u001b[0;34m-\u001b[0m \u001b[0mm\u001b[0m\u001b[0;34m)\u001b[0m\u001b[0;34m\u001b[0m\u001b[0m\n\u001b[0m\u001b[1;32m    100\u001b[0m         \u001b[0mt\u001b[0m \u001b[0;34m=\u001b[0m \u001b[0mnp\u001b[0m\u001b[0;34m.\u001b[0m\u001b[0mdot\u001b[0m\u001b[0;34m(\u001b[0m\u001b[0mf\u001b[0m\u001b[0;34m,\u001b[0m \u001b[0mstream\u001b[0m\u001b[0;34m)\u001b[0m\u001b[0;34m\u001b[0m\u001b[0m\n\u001b[1;32m    101\u001b[0m         \u001b[0;32mif\u001b[0m \u001b[0mabs\u001b[0m\u001b[0;34m(\u001b[0m\u001b[0mt\u001b[0m\u001b[0;34m)\u001b[0m \u001b[0;34m<\u001b[0m \u001b[0mtol\u001b[0m \u001b[0;34m*\u001b[0m \u001b[0mmath\u001b[0m\u001b[0;34m.\u001b[0m\u001b[0mexp\u001b[0m\u001b[0;34m(\u001b[0m\u001b[0;34m-\u001b[0m\u001b[0mm\u001b[0m\u001b[0;34m)\u001b[0m\u001b[0;34m:\u001b[0m\u001b[0;34m\u001b[0m\u001b[0m\n",
      "\u001b[0;31mKeyboardInterrupt\u001b[0m: "
     ]
    }
   ],
   "source": [
    "%%time\n",
    "#поехали\n",
    "vol_penalty = 0\n",
    "risk_penalty = 1\n",
    "\n",
    "weights, func = find_best_wghts(total, vol_penalty, risk_penalty)\n",
    "report(np.round(weights,2), total, names, vol_penalty, risk_penalty) "
   ]
  },
  {
   "cell_type": "markdown",
   "metadata": {},
   "source": [
    "Отменим штрафы за волатильности и риск совсем.\n",
    "Как и ожидалось - модель оставляет в портфеле всего один продукт - ПИФ компаний малой капитализации."
   ]
  },
  {
   "cell_type": "code",
   "execution_count": null,
   "metadata": {
    "collapsed": false
   },
   "outputs": [],
   "source": [
    "%%time\n",
    "#поехали\n",
    "vol_penalty = 0\n",
    "risk_penalty = 0\n",
    "\n",
    "weights, func = find_best_wghts(total, vol_penalty, risk_penalty)\n",
    "report(np.round(weights,2), total, names, vol_penalty, risk_penalty) "
   ]
  },
  {
   "cell_type": "code",
   "execution_count": null,
   "metadata": {
    "collapsed": true
   },
   "outputs": [],
   "source": []
  },
  {
   "cell_type": "code",
   "execution_count": null,
   "metadata": {
    "collapsed": true
   },
   "outputs": [],
   "source": []
  }
 ],
 "metadata": {
  "kernelspec": {
   "display_name": "Python 3",
   "language": "python",
   "name": "python3"
  },
  "language_info": {
   "codemirror_mode": {
    "name": "ipython",
    "version": 3
   },
   "file_extension": ".py",
   "mimetype": "text/x-python",
   "name": "python",
   "nbconvert_exporter": "python",
   "pygments_lexer": "ipython3",
   "version": "3.6.0"
  }
 },
 "nbformat": 4,
 "nbformat_minor": 2
}
